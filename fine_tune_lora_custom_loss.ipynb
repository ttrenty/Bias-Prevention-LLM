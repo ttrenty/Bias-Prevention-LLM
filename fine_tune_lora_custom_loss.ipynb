{
 "cells": [
  {
   "cell_type": "code",
   "execution_count": 1,
   "metadata": {},
   "outputs": [],
   "source": [
    "# mentioning datatypes for better documentation\n",
    "from typing import Dict, List\n",
    "from datasets import Dataset, load_dataset, disable_caching\n",
    "disable_caching() ## disable huggingface cache\n",
    "from transformers import pipeline, AutoModelForCausalLM, AutoTokenizer\n",
    "import torch\n",
    "from torch.utils.data import Dataset\n",
    "from IPython.display import Markdown"
   ]
  },
  {
   "cell_type": "markdown",
   "metadata": {},
   "source": [
    "**Dataset Definition**"
   ]
  },
  {
   "cell_type": "code",
   "execution_count": 2,
   "metadata": {},
   "outputs": [
    {
     "name": "stdout",
     "output_type": "stream",
     "text": [
      "Dataset({\n",
      "    features: ['instruction', 'response', 'instruction_source'],\n",
      "    num_rows: 200\n",
      "})\n",
      "{'instruction': 'List 5 reasons why someone should learn to code', 'response': '1. High demand for coding skills in the job market\\n2. Increased problem-solving and analytical skills\\n3. Ability to develop new products and technologies\\n4. Potentially higher earning potential\\n5. Opportunity to work remotely and/or freelance', 'instruction_source': 'alpaca'}\n"
     ]
    },
    {
     "data": {
      "application/vnd.jupyter.widget-view+json": {
       "model_id": "3cbe055c9a704990868e1cf956788a87",
       "version_major": 2,
       "version_minor": 0
      },
      "text/plain": [
       "Map:   0%|          | 0/200 [00:00<?, ? examples/s]"
      ]
     },
     "metadata": {},
     "output_type": "display_data"
    },
    {
     "name": "stdout",
     "output_type": "stream",
     "text": [
      "\n",
      "Input 0:\n",
      "\tinstruction: List 5 reasons why someone should learn to code\n",
      "\tresponse: 1. High demand for coding skills in the job market\n",
      "2. Increased problem-solving and analytical skills\n",
      "3. Ability to develop new products and technologies\n",
      "4. Potentially higher earning potential\n",
      "5. Opportunity to work remotely and/or freelance\n",
      "\tinstruction_source: alpaca\n",
      "\tprompt: Below is an instruction that describes a task. Write a response that appropriately completes the request. Instruction: List 5 reasons why someone should learn to code\n",
      " Response:\n",
      "\tanswer: 1. High demand for coding skills in the job market\n",
      "2. Increased problem-solving and analytical skills\n",
      "3. Ability to develop new products and technologies\n",
      "4. Potentially higher earning potential\n",
      "5. Opportunity to work remotely and/or freelance\n",
      "\ttext: Below is an instruction that describes a task. Write a response that appropriately completes the request. Instruction: List 5 reasons why someone should learn to code\n",
      " Response:1. High demand for coding skills in the job market\n",
      "2. Increased problem-solving and analytical skills\n",
      "3. Ability to develop new products and technologies\n",
      "4. Potentially higher earning potential\n",
      "5. Opportunity to work remotely and/or freelance\n",
      "\n",
      "Input 1:\n",
      "\tinstruction: Arrange the given words in a sentence: \"genetic, beings, teleportation, Human\"\n",
      "\tresponse: \"Human beings genetic teleportation.\"\n",
      "\tinstruction_source: alpaca\n",
      "\tprompt: Below is an instruction that describes a task. Write a response that appropriately completes the request. Instruction: Arrange the given words in a sentence: \"genetic, beings, teleportation, Human\"\n",
      " Response:\n",
      "\tanswer: \"Human beings genetic teleportation.\"\n",
      "\ttext: Below is an instruction that describes a task. Write a response that appropriately completes the request. Instruction: Arrange the given words in a sentence: \"genetic, beings, teleportation, Human\"\n",
      " Response:\"Human beings genetic teleportation.\"\n",
      "\n",
      "Input 2:\n",
      "\tinstruction: Evaluate the website’s design: \"https://www.example.com\"\n",
      "\tresponse: I'm sorry, but I cannot evaluate the design of a website without more specific criteria or guidelines to follow. Can you please provide me with additional information about what aspects of the website's design you would like me to evaluate?\n",
      "\tinstruction_source: alpaca\n",
      "\tprompt: Below is an instruction that describes a task. Write a response that appropriately completes the request. Instruction: Evaluate the website’s design: \"https://www.example.com\"\n",
      " Response:\n",
      "\tanswer: I'm sorry, but I cannot evaluate the design of a website without more specific criteria or guidelines to follow. Can you please provide me with additional information about what aspects of the website's design you would like me to evaluate?\n",
      "\ttext: Below is an instruction that describes a task. Write a response that appropriately completes the request. Instruction: Evaluate the website’s design: \"https://www.example.com\"\n",
      " Response:I'm sorry, but I cannot evaluate the design of a website without more specific criteria or guidelines to follow. Can you please provide me with additional information about what aspects of the website's design you would like me to evaluate?\n",
      "\n",
      "Input 3:\n",
      "\tinstruction: Describe the benefits of eating healthy foods.\n",
      "\tresponse: Eating healthy foods has numerous benefits including maintaining a healthy weight, reducing the risk of chronic diseases such as heart disease and diabetes, improving brain function and mood, boosting immunity, increasing energy levels, and promoting overall longevity and quality of life.\n",
      "\tinstruction_source: alpaca\n",
      "\tprompt: Below is an instruction that describes a task. Write a response that appropriately completes the request. Instruction: Describe the benefits of eating healthy foods.\n",
      " Response:\n",
      "\tanswer: Eating healthy foods has numerous benefits including maintaining a healthy weight, reducing the risk of chronic diseases such as heart disease and diabetes, improving brain function and mood, boosting immunity, increasing energy levels, and promoting overall longevity and quality of life.\n",
      "\ttext: Below is an instruction that describes a task. Write a response that appropriately completes the request. Instruction: Describe the benefits of eating healthy foods.\n",
      " Response:Eating healthy foods has numerous benefits including maintaining a healthy weight, reducing the risk of chronic diseases such as heart disease and diabetes, improving brain function and mood, boosting immunity, increasing energy levels, and promoting overall longevity and quality of life.\n",
      "\n",
      "Input 4:\n",
      "\tinstruction: What is the distance between Boston and New York City?\n",
      "\tresponse: The distance between Boston and New York City is approximately 215 miles.\n",
      "\tinstruction_source: alpaca\n",
      "\tprompt: Below is an instruction that describes a task. Write a response that appropriately completes the request. Instruction: What is the distance between Boston and New York City?\n",
      " Response:\n",
      "\tanswer: The distance between Boston and New York City is approximately 215 miles.\n",
      "\ttext: Below is an instruction that describes a task. Write a response that appropriately completes the request. Instruction: What is the distance between Boston and New York City?\n",
      " Response:The distance between Boston and New York City is approximately 215 miles.\n"
     ]
    }
   ],
   "source": [
    "# Dataset Preparation\n",
    "dataset = load_dataset(\"MBZUAI/LaMini-instruction\" , split = 'train') \n",
    "small_dataset = dataset.select([i for i in range(200)])\n",
    "print(small_dataset)\n",
    "print(small_dataset[0])\n",
    "\n",
    "# creating templates\n",
    "prompt_template = \"\"\"Below is an instruction that describes a task. Write a response that appropriately completes the request. Instruction: {instruction}\\n Response:\"\"\"\n",
    "answer_template = \"\"\"{response}\"\"\"\n",
    "\n",
    "# creating function to add keys in the dictionary for prompt, answer and whole text\n",
    "def _add_text(rec):\n",
    "    instruction = rec[\"instruction\"]\n",
    "    response = rec[\"response\"] \n",
    "    # check if both exists, else raise error   \n",
    "    if not instruction:\n",
    "        raise ValueError(f\"Expected an instruction in: {rec}\")\n",
    "    if not response:\n",
    "        raise ValueError(f\"Expected a response in: {rec}\")\n",
    "    rec[\"prompt\"] = prompt_template.format(instruction=instruction)\n",
    "    rec[\"answer\"] = answer_template.format(response=response)\n",
    "    rec[\"text\"] = rec[\"prompt\"] + rec[\"answer\"]\n",
    "    return rec\n",
    "\n",
    "# running through all samples\n",
    "small_dataset = small_dataset.map(_add_text)\n",
    "for i in range(0, 5):\n",
    "    print(f\"\\nInput {i}:\")\n",
    "    for key, value in small_dataset[i].items():\n",
    "        print(f\"\\t{key}: {value}\")"
   ]
  },
  {
   "cell_type": "markdown",
   "metadata": {},
   "source": [
    "**Model Definition**"
   ]
  },
  {
   "cell_type": "code",
   "execution_count": 3,
   "metadata": {},
   "outputs": [
    {
     "data": {
      "text/plain": [
       "Embedding(50280, 2560)"
      ]
     },
     "execution_count": 3,
     "metadata": {},
     "output_type": "execute_result"
    }
   ],
   "source": [
    "from transformers import BitsAndBytesConfig\n",
    "\n",
    "# loading the tokenizer for dolly model. The tokenizer converts raw text into tokens\n",
    "model_id = \"databricks/dolly-v2-3b\"\n",
    "tokenizer = AutoTokenizer.from_pretrained(model_id)\n",
    "tokenizer.pad_token = tokenizer.eos_token\n",
    "\n",
    "#loading the model using AutoModelForCausalLM\n",
    "base_model = AutoModelForCausalLM.from_pretrained(\n",
    "    model_id,\n",
    "    # use_cache=False,\n",
    "    device_map=\"auto\", #\"balanced\",\n",
    "    quantization_config=BitsAndBytesConfig(load_in_8bit=True),\n",
    "    torch_dtype=torch.float16\n",
    ")\n",
    "\n",
    "# resizes input token embeddings matrix of the model if new_num_tokens != config.vocab_size.\n",
    "base_model.resize_token_embeddings(len(tokenizer))"
   ]
  },
  {
   "cell_type": "code",
   "execution_count": 4,
   "metadata": {},
   "outputs": [
    {
     "data": {
      "application/vnd.jupyter.widget-view+json": {
       "model_id": "fff54dcb25f141feacea51533828e1a6",
       "version_major": 2,
       "version_minor": 0
      },
      "text/plain": [
       "Map:   0%|          | 0/200 [00:00<?, ? examples/s]"
      ]
     },
     "metadata": {},
     "output_type": "display_data"
    },
    {
     "data": {
      "application/vnd.jupyter.widget-view+json": {
       "model_id": "1d026e34cf8645d3ab5ecc062ba7763b",
       "version_major": 2,
       "version_minor": 0
      },
      "text/plain": [
       "Filter:   0%|          | 0/200 [00:00<?, ? examples/s]"
      ]
     },
     "metadata": {},
     "output_type": "display_data"
    },
    {
     "name": "stdout",
     "output_type": "stream",
     "text": [
      "DatasetDict({\n",
      "    train: Dataset({\n",
      "        features: ['instruction_source', 'text', 'input_ids', 'attention_mask', 'labels'],\n",
      "        num_rows: 186\n",
      "    })\n",
      "    test: Dataset({\n",
      "        features: ['instruction_source', 'text', 'input_ids', 'attention_mask', 'labels'],\n",
      "        num_rows: 14\n",
      "    })\n",
      "})\n"
     ]
    }
   ],
   "source": [
    "from functools import partial\n",
    "import copy\n",
    "from transformers import DataCollatorForSeq2Seq\n",
    "\n",
    "MAX_LENGTH = 256\n",
    "\n",
    "# Function to generate token embeddings from text part of batch\n",
    "def _preprocess_batch(batch: Dict[str, List]):  \n",
    "    model_inputs = tokenizer(batch[\"text\"], max_length=MAX_LENGTH, truncation=True, padding='max_length')    \n",
    "    model_inputs[\"labels\"] = copy.deepcopy(model_inputs['input_ids'])\n",
    "    return model_inputs\n",
    "\n",
    "_preprocessing_function = partial(_preprocess_batch)\n",
    "\n",
    "# apply the preprocessing function to each batch in the dataset\n",
    "encoded_small_dataset = small_dataset.map(\n",
    "        _preprocessing_function,\n",
    "        batched=True,\n",
    "        remove_columns=[\"instruction\", \"response\", \"prompt\", \"answer\"],\n",
    ")\n",
    "processed_dataset = encoded_small_dataset.filter(lambda rec: len(rec[\"input_ids\"]) <= MAX_LENGTH)\n",
    "\n",
    "# splitting dataset\n",
    "split_dataset = processed_dataset.train_test_split(test_size=14, seed=0)\n",
    "print(split_dataset)\n",
    "\n",
    "# takes a list of samples from a Dataset and collate them into a batch, as a dictionary of PyTorch tensors.\n",
    "data_collator = DataCollatorForSeq2Seq(\n",
    "        model = base_model, tokenizer=tokenizer, max_length=MAX_LENGTH, pad_to_multiple_of=8, padding='max_length')"
   ]
  },
  {
   "cell_type": "code",
   "execution_count": 5,
   "metadata": {},
   "outputs": [
    {
     "name": "stdout",
     "output_type": "stream",
     "text": [
      "trainable params: 83,886,080 || all params: 2,858,972,160 || trainable%: 2.9341\n"
     ]
    }
   ],
   "source": [
    "from peft import LoraConfig, get_peft_model, prepare_model_for_kbit_training\n",
    "\n",
    "LORA_R = 256 # 512\n",
    "LORA_ALPHA = 512 # 1024\n",
    "LORA_DROPOUT = 0.05\n",
    "# Define LoRA Config\n",
    "lora_config = LoraConfig(\n",
    "                 r = LORA_R, # the dimension of the low-rank matrices\n",
    "                 lora_alpha = LORA_ALPHA, # scaling factor for the weight matrices\n",
    "                 lora_dropout = LORA_DROPOUT, # dropout probability of the LoRA layers\n",
    "                 bias=\"none\",\n",
    "                 task_type=\"CAUSAL_LM\",\n",
    "                 target_modules=[\"query_key_value\"],\n",
    ")\n",
    "\n",
    "# Prepare int-8 model for training - utility function that prepares a PyTorch model for int8 quantization training. <https://huggingface.co/docs/peft/task_guides/int8-asr>\n",
    "model = prepare_model_for_kbit_training(base_model, 8)\n",
    "# initialize the model with the LoRA framework\n",
    "model = get_peft_model(model, lora_config)\n",
    "model.print_trainable_parameters()"
   ]
  },
  {
   "cell_type": "markdown",
   "metadata": {},
   "source": [
    "**Training using Trainer Class**"
   ]
  },
  {
   "cell_type": "code",
   "execution_count": 6,
   "metadata": {},
   "outputs": [],
   "source": [
    "# from transformers import TrainingArguments, Trainer\n",
    "# import bitsandbytes\n",
    "# # define the training arguments first.\n",
    "# EPOCHS = 1\n",
    "# LEARNING_RATE = 1e-4  \n",
    "# MODEL_SAVE_FOLDER_NAME = \"dolly-3b-lora\"\n",
    "# training_args = TrainingArguments(\n",
    "#                     output_dir=MODEL_SAVE_FOLDER_NAME,\n",
    "#                     overwrite_output_dir=True,\n",
    "#                     fp16=True, #converts to float precision 16 using bitsandbytes\n",
    "#                     per_device_train_batch_size=1,\n",
    "#                     per_device_eval_batch_size=1,\n",
    "#                     learning_rate=LEARNING_RATE,\n",
    "#                     num_train_epochs=EPOCHS,\n",
    "#                     logging_strategy=\"epoch\",\n",
    "#                     evaluation_strategy=\"epoch\",\n",
    "#                     save_strategy=\"epoch\",\n",
    "# )\n",
    "# # training the model \n",
    "# trainer = Trainer(\n",
    "#         model=model,\n",
    "#         tokenizer=tokenizer,\n",
    "#         args=training_args,\n",
    "#         train_dataset=split_dataset['train'],\n",
    "#         eval_dataset=split_dataset[\"test\"],\n",
    "#         data_collator=data_collator,\n",
    "# )\n",
    "# model.config.use_cache = False  # silence the warnings. Please re-enable for inference!\n",
    "# trainer.train()\n",
    "# # only saves the incremental 🤗 PEFT weights (adapter_model.bin) that were trained, meaning it is super efficient to store, transfer, and load.\n",
    "# trainer.model.save_pretrained(MODEL_SAVE_FOLDER_NAME)\n",
    "# # save the full model and the training arguments\n",
    "# trainer.save_model(MODEL_SAVE_FOLDER_NAME)\n",
    "# trainer.model.config.save_pretrained(MODEL_SAVE_FOLDER_NAME)"
   ]
  },
  {
   "cell_type": "markdown",
   "metadata": {},
   "source": [
    "**Custom Training Loop**"
   ]
  },
  {
   "cell_type": "code",
   "execution_count": 7,
   "metadata": {},
   "outputs": [],
   "source": [
    "# import torch.nn.functional as F\n",
    "\n",
    "# # Example custom loss function\n",
    "# def custom_loss(outputs, labels):\n",
    "#     # Mean Squared Error as an example\n",
    "#     return F.mse_loss(outputs, labels)\n",
    "\n",
    "# from torch.utils.data import DataLoader\n",
    "# from tqdm import tqdm\n",
    "\n",
    "# EPOCHS = 1\n",
    "# LEARNING_RATE = 1e-4  \n",
    "# MODEL_SAVE_FOLDER_NAME = \"dolly-3b-lora\"\n",
    "\n",
    "# # Define your optimizer\n",
    "# optimizer = torch.optim.AdamW(model.parameters(), lr=LEARNING_RATE)\n",
    "\n",
    "# # Create DataLoader for train and test datasets\n",
    "# train_loader = DataLoader(split_dataset['train'], batch_size=1, shuffle=True)\n",
    "# eval_loader = DataLoader(split_dataset['test'], batch_size=1)\n",
    "\n",
    "# # Move model to GPU if available\n",
    "# device = torch.device(\"cuda\" if torch.cuda.is_available() else \"cpu\")\n",
    "# model.to(device)\n",
    "\n",
    "# # Training loop\n",
    "# for epoch in range(EPOCHS):\n",
    "#     model.train()  # Set model to training mode\n",
    "#     train_loss = 0.0\n",
    "    \n",
    "#     for batch in tqdm(train_loader, desc=f\"Training Epoch {epoch + 1}/{EPOCHS}\"):\n",
    "#         print(\"AAAAAA\")\n",
    "#         for k, v in batch.items():\n",
    "#             print(f\"{k}: {v}\")\n",
    "#         print(\"BBBBBB\")\n",
    "#         inputs = {}\n",
    "#         # Move batch data to device\n",
    "#         for key, list_value in batch.items():\n",
    "#             print(f\"{key}: {list_value}\")\n",
    "#             # if values are not tensor pass\n",
    "#             if not isinstance(list_value, torch.Tensor):\n",
    "#                 inputs[key] = {key: list_value}\n",
    "#             else:\n",
    "#                 inputs[key] = {key: [value.to(device) for value in list_value]}\n",
    "\n",
    "#         # inputs = {k: v.to(device) for k, v in batch.items()}\n",
    "\n",
    "#         # Forward pass\n",
    "#         outputs = model(**inputs)\n",
    "#         loss = custom_loss(outputs.logits, inputs[\"labels\"])  # Use your custom loss here\n",
    "\n",
    "#         # Backward pass and optimization\n",
    "#         optimizer.zero_grad()\n",
    "#         loss.backward()\n",
    "#         optimizer.step()\n",
    "\n",
    "#         train_loss += loss.item()\n",
    "    \n",
    "#     print(f\"Epoch {epoch + 1} - Training Loss: {train_loss / len(train_loader)}\")\n",
    "\n",
    "#     # Evaluation loop\n",
    "#     model.eval()  # Set model to evaluation mode\n",
    "#     eval_loss = 0.0\n",
    "#     with torch.no_grad():\n",
    "#         for batch in tqdm(eval_loader, desc=\"Evaluating\"):\n",
    "#             inputs = {k: v.to(device) for k, v in batch.items()}\n",
    "#             outputs = model(**inputs)\n",
    "#             loss = custom_loss(outputs.logits, inputs[\"labels\"])  # Use the same custom loss\n",
    "#             eval_loss += loss.item()\n",
    "    \n",
    "#     print(f\"Epoch {epoch + 1} - Evaluation Loss: {eval_loss / len(eval_loader)}\")\n",
    "\n",
    "# # Save the trained model\n",
    "# model.save_pretrained(MODEL_SAVE_FOLDER_NAME)\n",
    "# tokenizer.save_pretrained(MODEL_SAVE_FOLDER_NAME)\n"
   ]
  },
  {
   "cell_type": "markdown",
   "metadata": {},
   "source": [
    "Set dataset as tensors"
   ]
  },
  {
   "cell_type": "code",
   "execution_count": 8,
   "metadata": {},
   "outputs": [
    {
     "name": "stdout",
     "output_type": "stream",
     "text": [
      "Train dataset: Dataset({\n",
      "    features: ['instruction_source', 'text', 'input_ids', 'attention_mask', 'labels'],\n",
      "    num_rows: 186\n",
      "})\n",
      "instruction_source: alpaca [<class 'str'>, <class 'str'>, <class 'str'>, <class 'str'>, <class 'str'>, <class 'str'>]\n",
      "text: Below is a [<class 'str'>, <class 'str'>, <class 'str'>, <class 'str'>, <class 'str'>, <class 'str'>, <class 'str'>, <class 'str'>, <class 'str'>, <class 'str'>]\n",
      "input_ids: [30003, 310, 271, 9775, 326, 8631, 247, 4836, 15, 19566] [<class 'int'>, <class 'int'>, <class 'int'>, <class 'int'>, <class 'int'>, <class 'int'>, <class 'int'>, <class 'int'>, <class 'int'>, <class 'int'>]\n",
      "attention_mask: [1, 1, 1, 1, 1, 1, 1, 1, 1, 1] [<class 'int'>, <class 'int'>, <class 'int'>, <class 'int'>, <class 'int'>, <class 'int'>, <class 'int'>, <class 'int'>, <class 'int'>, <class 'int'>]\n",
      "labels: [30003, 310, 271, 9775, 326, 8631, 247, 4836, 15, 19566] [<class 'int'>, <class 'int'>, <class 'int'>, <class 'int'>, <class 'int'>, <class 'int'>, <class 'int'>, <class 'int'>, <class 'int'>, <class 'int'>]\n",
      "New Train dataset: Dataset({\n",
      "    features: ['input_ids', 'attention_mask', 'labels'],\n",
      "    num_rows: 186\n",
      "})\n",
      "Train dataset length: 186\n",
      "Dataset({\n",
      "    features: ['input_ids', 'attention_mask', 'labels'],\n",
      "    num_rows: 186\n",
      "})\n",
      "Train dataset length: 15\n",
      "Eval dataset length: 14\n"
     ]
    }
   ],
   "source": [
    "# Apply preprocessing to the dataset\n",
    "train_dataset = split_dataset[\"train\"]\n",
    "eval_dataset = split_dataset[\"test\"]\n",
    "\n",
    "print(\"Train dataset:\", train_dataset)\n",
    "\n",
    "for key, value_list in train_dataset[0].items():\n",
    "    print(f\"{key}: {value_list[:10]} {[type(value) for value in value_list[:10]]}\")\n",
    "\n",
    "\n",
    "# remove instruction_source and text from dataset\n",
    "train_dataset = train_dataset.remove_columns([\"instruction_source\", \"text\"])\n",
    "eval_dataset = eval_dataset.remove_columns([\"instruction_source\", \"text\"])\n",
    "\n",
    "print(\"New Train dataset:\", train_dataset)\n",
    "\n",
    "# train_dataloader = DataLoader(train_dataset, batch_size=1, shuffle=True, collate_fn=data_collator)\n",
    "\n",
    "# # Test the DataLoader\n",
    "# for batch in train_dataloader:\n",
    "#     for key, value in batch.items():\n",
    "#         print(f\"{key}: {value}\")\n",
    "#     break\n",
    "\n",
    "print(f\"Train dataset length: {len(train_dataset)}\")\n",
    "print(train_dataset)\n",
    "# keep only the first 10 samples\n",
    "train_dataset = train_dataset.select([i for i in range(15)])\n",
    "print(f\"Train dataset length: {len(train_dataset)}\")\n",
    "print(f\"Eval dataset length: {len(eval_dataset)}\")"
   ]
  },
  {
   "cell_type": "code",
   "execution_count": 13,
   "metadata": {},
   "outputs": [
    {
     "name": "stderr",
     "output_type": "stream",
     "text": [
      "/home/ttrenty/miniconda3/envs/transformers/lib/python3.9/site-packages/torch/utils/checkpoint.py:464: UserWarning: torch.utils.checkpoint: the use_reentrant parameter should be passed explicitly. In version 2.4 we will raise an exception if use_reentrant is not passed. use_reentrant=False is recommended, but if you need to preserve the current default behavior, you can pass use_reentrant=True. Refer to docs for more details on the differences between the two variants.\n",
      "  warnings.warn(\n",
      "/home/ttrenty/miniconda3/envs/transformers/lib/python3.9/site-packages/bitsandbytes/autograd/_functions.py:315: UserWarning: MatMul8bitLt: inputs will be cast from torch.float32 to float16 during quantization\n",
      "  warnings.warn(f\"MatMul8bitLt: inputs will be cast from {A.dtype} to float16 during quantization\")\n"
     ]
    },
    {
     "name": "stdout",
     "output_type": "stream",
     "text": [
      "accuracy: tensor(190., device='cuda:0')\n",
      "accuracy: tensor(179., device='cuda:0')\n",
      "accuracy: tensor(130., device='cuda:0')\n",
      "accuracy: tensor(39., device='cuda:0')\n",
      "accuracy: tensor(168., device='cuda:0')\n"
     ]
    },
    {
     "ename": "KeyboardInterrupt",
     "evalue": "",
     "output_type": "error",
     "traceback": [
      "\u001b[0;31m---------------------------------------------------------------------------\u001b[0m",
      "\u001b[0;31mKeyboardInterrupt\u001b[0m                         Traceback (most recent call last)",
      "Cell \u001b[0;32mIn[13], line 94\u001b[0m\n\u001b[1;32m     83\u001b[0m \u001b[38;5;66;03m# Compute custom loss\u001b[39;00m\n\u001b[1;32m     84\u001b[0m \u001b[38;5;66;03m# loss = cross_entropy_loss(logits.view(-1, logits.size(-1)), labels.view(-1))\u001b[39;00m\n\u001b[1;32m     85\u001b[0m \u001b[38;5;66;03m# loss = custom_loss_fn(logits.view(-1, logits.size(-1)), labels.view(-1))\u001b[39;00m\n\u001b[0;32m   (...)\u001b[0m\n\u001b[1;32m     91\u001b[0m \n\u001b[1;32m     92\u001b[0m \u001b[38;5;66;03m# Backward pass\u001b[39;00m\n\u001b[1;32m     93\u001b[0m optimizer\u001b[38;5;241m.\u001b[39mzero_grad()\n\u001b[0;32m---> 94\u001b[0m \u001b[43mloss\u001b[49m\u001b[38;5;241;43m.\u001b[39;49m\u001b[43mbackward\u001b[49m\u001b[43m(\u001b[49m\u001b[43m)\u001b[49m\n\u001b[1;32m     95\u001b[0m optimizer\u001b[38;5;241m.\u001b[39mstep()\n\u001b[1;32m     96\u001b[0m scheduler\u001b[38;5;241m.\u001b[39mstep()\n",
      "File \u001b[0;32m~/miniconda3/envs/transformers/lib/python3.9/site-packages/torch/_tensor.py:525\u001b[0m, in \u001b[0;36mTensor.backward\u001b[0;34m(self, gradient, retain_graph, create_graph, inputs)\u001b[0m\n\u001b[1;32m    515\u001b[0m \u001b[38;5;28;01mif\u001b[39;00m has_torch_function_unary(\u001b[38;5;28mself\u001b[39m):\n\u001b[1;32m    516\u001b[0m     \u001b[38;5;28;01mreturn\u001b[39;00m handle_torch_function(\n\u001b[1;32m    517\u001b[0m         Tensor\u001b[38;5;241m.\u001b[39mbackward,\n\u001b[1;32m    518\u001b[0m         (\u001b[38;5;28mself\u001b[39m,),\n\u001b[0;32m   (...)\u001b[0m\n\u001b[1;32m    523\u001b[0m         inputs\u001b[38;5;241m=\u001b[39minputs,\n\u001b[1;32m    524\u001b[0m     )\n\u001b[0;32m--> 525\u001b[0m \u001b[43mtorch\u001b[49m\u001b[38;5;241;43m.\u001b[39;49m\u001b[43mautograd\u001b[49m\u001b[38;5;241;43m.\u001b[39;49m\u001b[43mbackward\u001b[49m\u001b[43m(\u001b[49m\n\u001b[1;32m    526\u001b[0m \u001b[43m    \u001b[49m\u001b[38;5;28;43mself\u001b[39;49m\u001b[43m,\u001b[49m\u001b[43m \u001b[49m\u001b[43mgradient\u001b[49m\u001b[43m,\u001b[49m\u001b[43m \u001b[49m\u001b[43mretain_graph\u001b[49m\u001b[43m,\u001b[49m\u001b[43m \u001b[49m\u001b[43mcreate_graph\u001b[49m\u001b[43m,\u001b[49m\u001b[43m \u001b[49m\u001b[43minputs\u001b[49m\u001b[38;5;241;43m=\u001b[39;49m\u001b[43minputs\u001b[49m\n\u001b[1;32m    527\u001b[0m \u001b[43m\u001b[49m\u001b[43m)\u001b[49m\n",
      "File \u001b[0;32m~/miniconda3/envs/transformers/lib/python3.9/site-packages/torch/autograd/__init__.py:267\u001b[0m, in \u001b[0;36mbackward\u001b[0;34m(tensors, grad_tensors, retain_graph, create_graph, grad_variables, inputs)\u001b[0m\n\u001b[1;32m    262\u001b[0m     retain_graph \u001b[38;5;241m=\u001b[39m create_graph\n\u001b[1;32m    264\u001b[0m \u001b[38;5;66;03m# The reason we repeat the same comment below is that\u001b[39;00m\n\u001b[1;32m    265\u001b[0m \u001b[38;5;66;03m# some Python versions print out the first line of a multi-line function\u001b[39;00m\n\u001b[1;32m    266\u001b[0m \u001b[38;5;66;03m# calls in the traceback and some print out the last line\u001b[39;00m\n\u001b[0;32m--> 267\u001b[0m \u001b[43m_engine_run_backward\u001b[49m\u001b[43m(\u001b[49m\n\u001b[1;32m    268\u001b[0m \u001b[43m    \u001b[49m\u001b[43mtensors\u001b[49m\u001b[43m,\u001b[49m\n\u001b[1;32m    269\u001b[0m \u001b[43m    \u001b[49m\u001b[43mgrad_tensors_\u001b[49m\u001b[43m,\u001b[49m\n\u001b[1;32m    270\u001b[0m \u001b[43m    \u001b[49m\u001b[43mretain_graph\u001b[49m\u001b[43m,\u001b[49m\n\u001b[1;32m    271\u001b[0m \u001b[43m    \u001b[49m\u001b[43mcreate_graph\u001b[49m\u001b[43m,\u001b[49m\n\u001b[1;32m    272\u001b[0m \u001b[43m    \u001b[49m\u001b[43minputs\u001b[49m\u001b[43m,\u001b[49m\n\u001b[1;32m    273\u001b[0m \u001b[43m    \u001b[49m\u001b[43mallow_unreachable\u001b[49m\u001b[38;5;241;43m=\u001b[39;49m\u001b[38;5;28;43;01mTrue\u001b[39;49;00m\u001b[43m,\u001b[49m\n\u001b[1;32m    274\u001b[0m \u001b[43m    \u001b[49m\u001b[43maccumulate_grad\u001b[49m\u001b[38;5;241;43m=\u001b[39;49m\u001b[38;5;28;43;01mTrue\u001b[39;49;00m\u001b[43m,\u001b[49m\n\u001b[1;32m    275\u001b[0m \u001b[43m\u001b[49m\u001b[43m)\u001b[49m\n",
      "File \u001b[0;32m~/miniconda3/envs/transformers/lib/python3.9/site-packages/torch/autograd/graph.py:744\u001b[0m, in \u001b[0;36m_engine_run_backward\u001b[0;34m(t_outputs, *args, **kwargs)\u001b[0m\n\u001b[1;32m    742\u001b[0m     unregister_hooks \u001b[38;5;241m=\u001b[39m _register_logging_hooks_on_whole_graph(t_outputs)\n\u001b[1;32m    743\u001b[0m \u001b[38;5;28;01mtry\u001b[39;00m:\n\u001b[0;32m--> 744\u001b[0m     \u001b[38;5;28;01mreturn\u001b[39;00m \u001b[43mVariable\u001b[49m\u001b[38;5;241;43m.\u001b[39;49m\u001b[43m_execution_engine\u001b[49m\u001b[38;5;241;43m.\u001b[39;49m\u001b[43mrun_backward\u001b[49m\u001b[43m(\u001b[49m\u001b[43m  \u001b[49m\u001b[38;5;66;43;03m# Calls into the C++ engine to run the backward pass\u001b[39;49;00m\n\u001b[1;32m    745\u001b[0m \u001b[43m        \u001b[49m\u001b[43mt_outputs\u001b[49m\u001b[43m,\u001b[49m\u001b[43m \u001b[49m\u001b[38;5;241;43m*\u001b[39;49m\u001b[43margs\u001b[49m\u001b[43m,\u001b[49m\u001b[43m \u001b[49m\u001b[38;5;241;43m*\u001b[39;49m\u001b[38;5;241;43m*\u001b[39;49m\u001b[43mkwargs\u001b[49m\n\u001b[1;32m    746\u001b[0m \u001b[43m    \u001b[49m\u001b[43m)\u001b[49m  \u001b[38;5;66;03m# Calls into the C++ engine to run the backward pass\u001b[39;00m\n\u001b[1;32m    747\u001b[0m \u001b[38;5;28;01mfinally\u001b[39;00m:\n\u001b[1;32m    748\u001b[0m     \u001b[38;5;28;01mif\u001b[39;00m attach_logging_hooks:\n",
      "\u001b[0;31mKeyboardInterrupt\u001b[0m: "
     ]
    }
   ],
   "source": [
    "import time\n",
    "\n",
    "from torch.utils.data import DataLoader\n",
    "from tqdm import tqdm\n",
    "\n",
    "import torch\n",
    "import torch.nn.functional as F\n",
    "\n",
    "def custom_loss_fn(logits, labels, smoothing=0.1):\n",
    "    \"\"\"\n",
    "    Custom label-smoothing loss.\n",
    "    \"\"\"\n",
    "    num_classes = logits.size(-1)\n",
    "    confidence = 1.0 - smoothing\n",
    "    label_dist = torch.full_like(logits, smoothing / (num_classes - 1))\n",
    "    label_dist.scatter_(-1, labels.unsqueeze(-1), confidence)\n",
    "    loss = -torch.sum(label_dist * F.log_softmax(logits, dim=-1), dim=-1).mean()\n",
    "    return loss\n",
    "\n",
    "def get_argmax_tokens(logits):\n",
    "    \"\"\"\n",
    "    Get argmax tokens from logits.\n",
    "    \"\"\"\n",
    "    return torch.argmax(logits, dim=-1)\n",
    "\n",
    "def compute_cross_entropy_loss(tokens, labels):\n",
    "    \"\"\"\n",
    "    Compute cross-entropy loss.\n",
    "    \"\"\"\n",
    "    return F.cross_entropy(tokens.view(-1, tokens.size(-1)), labels.view(-1))\n",
    "\n",
    "def accuracy_at_k(logits, labels, k=1):\n",
    "    \"\"\"\n",
    "    Compute accuracy at k.\n",
    "    \"\"\"\n",
    "    _, top_k = torch.topk(logits, k=k, dim=-1)\n",
    "    correct = torch.eq(top_k, labels.unsqueeze(-1)).sum()\n",
    "    return correct / labels.size(0)\n",
    "\n",
    "cross_entropy_loss = torch.nn.CrossEntropyLoss()\n",
    "\n",
    "# Prepare DataLoaders\n",
    "train_dataloader = DataLoader(train_dataset, batch_size=1, shuffle=True, collate_fn=data_collator)\n",
    "eval_dataloader = DataLoader(eval_dataset, batch_size=1, shuffle=False, collate_fn=data_collator)\n",
    "\n",
    "EPOCHS = 5\n",
    "LEARNING_RATE = 1e-4  \n",
    "MODEL_SAVE_FOLDER_NAME = \"dolly-3b-lora\"\n",
    "\n",
    "# Optimizer and Scheduler\n",
    "optimizer = torch.optim.AdamW(model.parameters(), lr=LEARNING_RATE)\n",
    "scheduler = torch.optim.lr_scheduler.LinearLR(optimizer, total_iters=len(train_dataloader) * EPOCHS)\n",
    "\n",
    "# Training Loop\n",
    "device = torch.device(\"cuda\" if torch.cuda.is_available() else \"cpu\")\n",
    "model.to(device)\n",
    "\n",
    "loss_history = []\n",
    "accuracies = []\n",
    "\n",
    "for epoch in range(EPOCHS):\n",
    "    model.train()\n",
    "    epoch_loss = 0\n",
    "    # for batch in tqdm(train_dataloader, desc=f\"Training Epoch {epoch + 1} - Loss: {loss:.4f}\"):\n",
    "    batch_count = 0\n",
    "    epoch_accuracy = 0\n",
    "    for batch in train_dataloader:\n",
    "        # Move batch to device\n",
    "        input_ids = batch['input_ids'].to(device)\n",
    "        attention_mask = batch['attention_mask'].to(device)\n",
    "        labels = batch['labels'].to(device)\n",
    "\n",
    "        # Forward pass\n",
    "        outputs = model(input_ids=input_ids, attention_mask=attention_mask, labels=labels)\n",
    "        # outputs = model(input_ids=input_ids, attention_mask=attention_mask)\n",
    "        logits = outputs.logits\n",
    "        loss = outputs.loss  # Cross-Entropy Loss is calculated internally when labels are provided\n",
    "        \n",
    "        accuracy = accuracy_at_k(logits, labels, k=1)\n",
    "        print(\"accuracy:\", accuracy)\n",
    "        epoch_accuracy += accuracy.item()\n",
    "\n",
    "        # Compute custom loss\n",
    "        # loss = cross_entropy_loss(logits.view(-1, logits.size(-1)), labels.view(-1))\n",
    "        # loss = custom_loss_fn(logits.view(-1, logits.size(-1)), labels.view(-1))\n",
    "\n",
    "        # tokens = get_argmax_tokens(logits)\n",
    "        # loss = compute_cross_entropy_loss(logits, labels)\n",
    "        # print(\"tokens:\", tokens)\n",
    "\n",
    "\n",
    "        # Backward pass\n",
    "        optimizer.zero_grad()\n",
    "        loss.backward()\n",
    "        optimizer.step()\n",
    "        scheduler.step()\n",
    "\n",
    "        epoch_loss += loss.item()\n",
    "\n",
    "        batch_count += 1\n",
    "        # print(f\"Epoch {epoch + 1}/{EPOCHS} - Batch {batch_count}/{len(train_dataloader)} - Loss: {loss.item():.4f} [model loss: {outputs.loss.item():.4f}]\", end=\"\\r\")\n",
    "        print(f\"Epoch {epoch + 1}/{EPOCHS} - Batch {batch_count}/{len(train_dataloader)} - Loss: {loss.item():.4f}\", end=\"\\r\")\n",
    "\n",
    "    \n",
    "    avg_epoch_loss = epoch_loss / len(train_dataloader)\n",
    "    epoch_accuracy = epoch_accuracy / len(train_dataloader)\n",
    "    print(f\"Epoch {epoch + 1}/{EPOCHS} - Training Loss: {avg_epoch_loss:.4f} - Training Accuracy: {epoch_accuracy:.4f}\")\n",
    "\n",
    "    accuracies.append(epoch_accuracy)\n",
    "\n",
    "    loss_history.append(avg_epoch_loss)\n",
    "\n",
    "    # Evaluation Loop\n",
    "    model.eval()\n",
    "    eval_loss = 0\n",
    "    with torch.no_grad():\n",
    "        for batch in tqdm(eval_dataloader, desc=\"Evaluating\"):\n",
    "            input_ids = batch['input_ids'].to(device)\n",
    "            attention_mask = batch['attention_mask'].to(device)\n",
    "            labels = batch['labels'].to(device)\n",
    "\n",
    "            outputs = model(input_ids=input_ids, attention_mask=attention_mask, labels=labels)\n",
    "            logits = outputs.logits\n",
    "            loss = custom_loss_fn(logits.view(-1, logits.size(-1)), labels.view(-1))\n",
    "            eval_loss += loss.item()\n",
    "\n",
    "    avg_eval_loss = eval_loss / len(eval_dataloader)\n",
    "    print(f\"Epoch {epoch + 1}/{EPOCHS} - Evaluation Loss: {avg_eval_loss:.4f}\")"
   ]
  },
  {
   "cell_type": "code",
   "execution_count": 12,
   "metadata": {},
   "outputs": [
    {
     "data": {
      "image/png": "[encoded data removed]",
      "text/plain": [
       "<Figure size 1000x600 with 2 Axes>"
      ]
     },
     "metadata": {},
     "output_type": "display_data"
    }
   ],
   "source": [
    "# plot loss graph\n",
    "import matplotlib.pyplot as plt\n",
    "import numpy as np\n",
    "\n",
    "# Plot the loss graph\n",
    "plt.figure(figsize=(10, 6))\n",
    "\n",
    "plt.subplot(1, 2, 1)\n",
    "plt.plot(np.arange(1, EPOCHS + 1), loss_history, label=\"Training Loss\")\n",
    "plt.xlabel(\"Epochs\")\n",
    "plt.ylabel(\"Loss\")\n",
    "plt.title(\"Training Loss\")\n",
    "plt.legend()\n",
    "plt.grid()\n",
    "\n",
    "accuracies = [accuracy.item() for accuracy in accuracies]\n",
    "\n",
    "plt.subplot(1, 2, 2)\n",
    "plt.plot(np.arange(1, EPOCHS + 1), accuracies, label=\"Training Accuracy\")\n",
    "plt.xlabel(\"Epochs\")\n",
    "plt.ylabel(\"Accuracy\")\n",
    "plt.title(\"Training Accuracy\")\n",
    "plt.legend()\n",
    "plt.grid()\n",
    "\n",
    "plt.show()"
   ]
  },
  {
   "cell_type": "code",
   "execution_count": null,
   "metadata": {},
   "outputs": [],
   "source": [
    "model.save_pretrained(MODEL_SAVE_FOLDER_NAME)\n",
    "tokenizer.save_pretrained(MODEL_SAVE_FOLDER_NAME)"
   ]
  },
  {
   "cell_type": "markdown",
   "metadata": {},
   "source": [
    "**Inference**"
   ]
  },
  {
   "cell_type": "code",
   "execution_count": null,
   "metadata": {},
   "outputs": [],
   "source": [
    "# Function to format the response and filter out the instruction from the response.\n",
    "def postprocess(response):\n",
    "    messages = response.split(\"Response:\")\n",
    "    if not messages:\n",
    "        raise ValueError(\"Invalid template for prompt. The template should include the term 'Response:'\")\n",
    "    return \"\".join(messages[1:])\n",
    "# Prompt for prediction\n",
    "inference_prompt = \"List 5 reasons why someone should learn to cook\"\n",
    "# Inference pipeline with the fine-tuned model\n",
    "inf_pipeline =  pipeline('text-generation', model=model, tokenizer=tokenizer, max_length=256, trust_remote_code=True)\n",
    "# inf_pipeline =  pipeline('text-generation', model=base_model, tokenizer=tokenizer, max_length=256, trust_remote_code=True)\n",
    "# Format the prompt using the `prompt_template` and generate response \n",
    "response = inf_pipeline(prompt_template.format(instruction=inference_prompt))[0]['generated_text']\n",
    "# postprocess the response\n",
    "formatted_response = postprocess(response)\n",
    "formatted_response"
   ]
  }
 ],
 "metadata": {
  "kernelspec": {
   "display_name": "transformers",
   "language": "python",
   "name": "python3"
  },
  "language_info": {
   "codemirror_mode": {
    "name": "ipython",
    "version": 3
   },
   "file_extension": ".py",
   "mimetype": "text/x-python",
   "name": "python",
   "nbconvert_exporter": "python",
   "pygments_lexer": "ipython3",
   "version": "3.9.21"
  }
 },
 "nbformat": 4,
 "nbformat_minor": 2
}
