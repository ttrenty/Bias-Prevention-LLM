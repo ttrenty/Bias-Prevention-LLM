{
 "cells": [
  {
   "cell_type": "markdown",
   "metadata": {},
   "source": [
    "# Load a text file and convert it to a csv file for model evaluation"
   ]
  },
  {
   "cell_type": "code",
   "execution_count": 14,
   "metadata": {},
   "outputs": [
    {
     "name": "stdout",
     "output_type": "stream",
     "text": [
      "Number of characters in text: 100000\n",
      "Dataset saved to lotr_dataset.csv\n"
     ]
    }
   ],
   "source": [
    "import re\n",
    "import pandas as pd\n",
    "\n",
    "# Step 1: Load the text file\n",
    "file_path = \"../data/lotr.txt\"  # Path to your text file\n",
    "with open(file_path, 'r', encoding='utf-8') as file:\n",
    "    text = file.read()\n",
    "\n",
    "text = text[:100000]\n",
    "print(f\"Number of characters in text: {len(text)}\")\n",
    "\n",
    "# Step 2: Preprocess the text\n",
    "def clean_text(text):\n",
    "    # Remove unnecessary spaces and line breaks\n",
    "    text = re.sub(r'\\s+', ' ', text).strip()\n",
    "    return text\n",
    "\n",
    "cleaned_text = clean_text(text)\n",
    "\n",
    "# Step 3: Split the text into segments\n",
    "def create_segments(text, segment_length=100, overlap=50):\n",
    "    \"\"\"\n",
    "    Split text into segments with optional overlap.\n",
    "    \"\"\"\n",
    "    words = text.split()\n",
    "    segments = []\n",
    "    for i in range(0, len(words) - segment_length, segment_length - overlap):\n",
    "        segment = words[i:i + segment_length]\n",
    "        segments.append(\" \".join(segment))\n",
    "    return segments\n",
    "\n",
    "segments = create_segments(cleaned_text, segment_length=100, overlap=50)\n",
    "\n",
    "# Step 4: Create prompts and references\n",
    "def create_dataset(segments, prompt_length=50):\n",
    "    \"\"\"\n",
    "    Use the first part of each segment as the prompt and the rest as the reference.\n",
    "    \"\"\"\n",
    "    dataset = []\n",
    "    for segment in segments:\n",
    "        words = segment.split()\n",
    "        prompt = \" \".join(words[:prompt_length])\n",
    "        reference = \" \".join(words[prompt_length:])\n",
    "        dataset.append({\"prompt\": prompt, \"reference\": reference})\n",
    "    return dataset\n",
    "\n",
    "dataset = create_dataset(segments, prompt_length=50)\n",
    "\n",
    "# Step 5: Save the dataset to a file\n",
    "df = pd.DataFrame(dataset)\n",
    "output_path = \"lotr_dataset.csv\"\n",
    "df.to_csv(output_path, index=False)\n",
    "\n",
    "print(f\"Dataset saved to {output_path}\")\n"
   ]
  }
 ],
 "metadata": {
  "kernelspec": {
   "display_name": "default",
   "language": "python",
   "name": "python3"
  },
  "language_info": {
   "codemirror_mode": {
    "name": "ipython",
    "version": 3
   },
   "file_extension": ".py",
   "mimetype": "text/x-python",
   "name": "python",
   "nbconvert_exporter": "python",
   "pygments_lexer": "ipython3",
   "version": "3.12.7"
  }
 },
 "nbformat": 4,
 "nbformat_minor": 2
}
