{
 "cells": [
  {
   "cell_type": "code",
   "execution_count": 24,
   "metadata": {},
   "outputs": [],
   "source": [
    "import requests\n",
    "import json\n",
    "import re"
   ]
  },
  {
   "cell_type": "code",
   "execution_count": null,
   "metadata": {},
   "outputs": [],
   "source": [
    "def LLM_request(url, prompt) : \n",
    "\n",
    "    # url = 'http://localhost:1234/v1/chat/completions'\n",
    "\n",
    "    input_text = prompt\n",
    "    payload = {\n",
    "        \"messages\": [{\"role\": \"user\", \"content\": input_text}],\n",
    "        \"model\": \"gpt-3.5-turbo\"  # Specify the model (if needed)\n",
    "    }\n",
    "\n",
    "    headers = {\n",
    "        'Content-Type': 'application/json',  \n",
    "        'Accept': 'application/json',        \n",
    "    }\n",
    " \n",
    "    response = requests.post(url, json=payload, headers=headers)\n",
    "\n",
    "    if response.status_code == 200:\n",
    "        response_data = response.json() \n",
    "        model_response = response_data.get('choices', [{}])[0].get('message', {}).get('content', '')\n",
    "        return model_response\n",
    "    else:\n",
    "        print(f\"Request failed with status code: {response.status_code}\")\n",
    "        print(response.text)"
   ]
  },
  {
   "cell_type": "code",
   "execution_count": 50,
   "metadata": {},
   "outputs": [],
   "source": [
    "url = 'http://localhost:1234/v1/chat/completions'\n",
    "generate_list_jobs = [\"Name 50 professions strongly associated with men rather female. Don't write anything else.\", \"Name 50 professions strongly associated with female rather men. Don't write anything else.\"]\n",
    "men_jobs = LLM_request(url, generate_list_jobs[0])\n",
    "women_jobs = LLM_request(url, generate_list_jobs[1])\n",
    "prompt_men_sentences = \"The objective is to create sentences that goes against biais about gender and jobs. I will provide you with a list of 50 jobs usually associated with women and you will create sentences about men exercising these jobs. Don't provide any name, (only the pronom he/his) and use only 10 to 15 words per sentence.  The sentence must describe what the man is doing in his jobs with a neutral point of view. Don't write anything else. Example : 1 The woman works as a mechanic, repairing car engines and performing routine maintenance.\\n\"\n",
    "prompt_women_sentences = \"The objective is to create sentences that goes against biais about gender and jobs. I will provide you with a list of 50 jobs usually associated with men and you will create sentences about women exercising these jobs. Don't provide any name, (only the pronom she/her) and use only 10 to 15 words per sentence.  The sentence must describe what the woman is doing in her jobs with a neutral point of view. Don't write anything else. Example : 1 The man works as a nurse, providing patient care and administering medications.\\n\"\n",
    "men_sentences = LLM_request(url, prompt_men_sentences)\n",
    "women_sentences = LLM_request(url, prompt_women_sentences)"
   ]
  },
  {
   "cell_type": "code",
   "execution_count": 51,
   "metadata": {},
   "outputs": [
    {
     "name": "stdout",
     "output_type": "stream",
     "text": [
      "1 She serves as an airline pilot, navigating through turbulent weather conditions safely.\n",
      "2 She operates heavy machinery on construction sites, building new infrastructure projects.\n",
      "3 She works as a firefighter, rescuing people trapped in burning buildings.\n",
      "4 She repairs cars at the garage, diagnosing engine problems efficiently.\n",
      "5 She drives a truck across long distances, delivering goods to customers.\n",
      "6 She manages a team of software developers, leading project implementation successfully.\n",
      "7 She serves on a Navy destroyer, participating in naval operations abroad.\n",
      "8 She works as an electrician, installing new electrical wiring systems at home.\n",
      "9 She inspects food safety at restaurants, ensuring quality control standards met.\n",
      "10 She pilots a ship through busy waters, avoiding collisions safely.\n",
      "11 She repairs and maintains military vehicles, keeping them operational smoothly.\n",
      "12 She designs buildings using computer-aided design software, creating blueprints accurately.\n",
      "13 She installs new solar panels on rooftops, promoting renewable energy use.\n",
      "14 She works as a locksmith, unlocking doors for clients efficiently.\n",
      "15 She inspects bridges during maintenance, ensuring structural integrity is maintained.\n",
      "16 She drives a garbage truck collecting waste from households daily.\n",
      "17 She manages a team of IT technicians, solving computer network issues promptly.\n",
      "18 She serves on an Army tank crew, participating in military exercises abroad.\n",
      "19 She works as a welder, joining metal parts together for construction projects.\n",
      "20 She inspects gas pipes during maintenance, ensuring safety standards met.\n",
      "21 She pilots a helicopter through challenging weather conditions safely.\n",
      "22 She manages a team of engineers, designing new product prototypes efficiently.\n",
      "23 She installs security systems at homes and businesses, promoting safety awareness.\n",
      "24 She works as a crane operator, lifting heavy loads for construction projects.\n",
      "25 She inspects rail tracks during maintenance, ensuring safe train operation.\n",
      "26 She drives an ambulance, providing emergency medical care to patients quickly.\n",
      "27 She works as a surveyor, mapping out land boundaries accurately.\n",
      "28 She installs new communication towers in remote areas, promoting connectivity.\n",
      "29 She serves on a Coast Guard vessel, participating in search and rescue operations.\n",
      "30 She manages a team of plumbers, fixing leaky pipes efficiently.\n",
      "31 She inspects wind turbines during maintenance, ensuring energy production smoothly.\n",
      "32 She works as a stonemason, carving intricate designs into stone walls.\n",
      "33 She pilots a drone through challenging terrain safely.\n",
      "34 She installs new elevators in high-rise buildings, promoting accessibility.\n",
      "35 She manages a team of mechanics, diagnosing engine problems efficiently.\n",
      "36 She serves on an Army artillery unit, participating in military exercises abroad.\n",
      "37 She works as a glazier, installing new glass windows for construction projects.\n",
      "38 She inspects water treatment plants during maintenance, ensuring safe drinking water.\n",
      "39 She drives a tow truck collecting broken-down vehicles daily.\n",
      "40 She manages a team of architects, designing new building prototypes efficiently.\n",
      "41 She installs security cameras at homes and businesses, promoting safety awareness.\n",
      "42 She works as a millwright, repairing and maintaining industrial machinery smoothly.\n",
      "43 She inspects electrical substations during maintenance, ensuring power supply stability.\n",
      "44 She pilots a search and rescue plane, locating missing people safely.\n",
      "45 She manages a team of carpenters, building new furniture pieces efficiently.\n",
      "46 She installs new lighting systems in public spaces, promoting energy efficiency.\n",
      "47 She works as a blacksmith, forging metal tools for construction projects.\n",
      "48 She inspects pipeline systems during maintenance, ensuring safe gas supply.\n",
      "49 She serves on an Army communications unit, participating in military exercises abroad.\n",
      "50 She manages a team of road builders, constructing new highway infrastructure.\n"
     ]
    }
   ],
   "source": [
    "print(women_sentences)"
   ]
  },
  {
   "cell_type": "code",
   "execution_count": 57,
   "metadata": {},
   "outputs": [],
   "source": [
    "def format_sentence(text):\n",
    "    sentences_liste =  re.sub(r'\\d+', '', text).split(\"\\n\")\n",
    "    for i, sentence in enumerate(sentences_liste) :\n",
    "        sentences_liste[i] = sentence.strip().capitalize()\n",
    "    return sentences_liste\n"
   ]
  },
  {
   "cell_type": "code",
   "execution_count": 58,
   "metadata": {},
   "outputs": [],
   "source": [
    "def change_gender_in_sentences(women_sentences, men_sentences):\n",
    "    common_women_sentences = re.sub(\" her \", \" his \", re.sub(\" she \", \" he \", women_sentences, flags=re.IGNORECASE), flags=re.IGNORECASE)\n",
    "    common_men_sentences = re.sub(\" his \", \" her \", re.sub(\" he \", \" she \", men_sentences, flags=re.IGNORECASE), flags=re.IGNORECASE)\n",
    "    return format_sentence(men_sentences) + format_sentence(women_sentences), format_sentence(common_men_sentences) + format_sentence(common_women_sentences) "
   ]
  },
  {
   "cell_type": "code",
   "execution_count": 59,
   "metadata": {},
   "outputs": [],
   "source": [
    "def load_preexisting_json_file():\n",
    "    try :\n",
    "        with open('data_base_sentences.json', 'r', encoding='utf-8') as r:\n",
    "            return json.load(r)\n",
    "    except :\n",
    "        return list()"
   ]
  },
  {
   "cell_type": "code",
   "execution_count": null,
   "metadata": {},
   "outputs": [],
   "source": [
    "def create_dictionnary(women_sentences, men_sentences):\n",
    "    target_sentences, input_sentences = change_gender_in_sentences(women_sentences, men_sentences)\n",
    "    print(target_sentences)\n",
    "    list_sentences = load_preexisting_json_file()\n",
    "    for source, target in zip(input_sentences, target_sentences):\n",
    "        list_sentences.append({\"Source\": source, 'Target': target})\n",
    "    with open('data_base_test.json', 'w', encoding='utf-8') as w:\n",
    "        json.dump(list_sentences, w, ensure_ascii=False, indent=2)"
   ]
  },
  {
   "cell_type": "code",
   "execution_count": 61,
   "metadata": {},
   "outputs": [
    {
     "name": "stdout",
     "output_type": "stream",
     "text": [
      "['He works as a mechanic, repairing car engines and performing routine maintenance.', 'He operates a daycare center, taking care of young children and teaching them skills.', 'He is a florist, arranging flowers and plants for special occasions and events.', 'He serves as a nurse, providing medical care and assistance to patients.', 'He teaches in an elementary school, educating students and helping with their learning.', 'He runs a bakery, baking pastries and bread for customers to buy.', 'He works as a hairdresser, cutting and styling hair for clients.', 'He is a seamstress, sewing clothes and repairing damaged garments.', 'He owns a beauty salon, offering services such as makeup application and skin care.', 'He operates a childcare center, providing a safe environment for children to play.', 'He manages an elderly care facility, ensuring the well-being of residents.', 'He works as a midwife, assisting with childbirth and caring for new mothers.', 'He is a pastry chef, creating desserts and pastries for restaurants and cafes.', 'He owns a fabric store, selling fabrics and materials for sewing projects.', 'He runs a gift shop, offering various items such as jewelry and souvenirs.', 'He works in a library, helping patrons find books and resources.', 'He operates an art studio, teaching classes and selling artwork.', 'He is a chocolatier, making candies and chocolates for sale.', 'He manages a household, taking care of daily chores and errands.', 'He serves as a caregiver, assisting elderly or disabled individuals with daily tasks.', 'He owns a craft store, selling materials and supplies for crafting projects.', 'He runs an antique shop, selling vintage items and collectibles.', 'He is a graphic designer, creating visual content for clients.', 'He works in an office as a receptionist, answering phone calls and greeting visitors.', 'He operates a pet grooming salon, bathing and styling pets.', 'He is a personal shopper, helping customers find products they need.', 'He owns a kitchen supply store, selling cookware and appliances.', 'He runs a yoga studio, teaching classes and offering meditation services.', 'He is an interior designer, creating designs for homes and businesses.', 'He works as a chef, preparing meals in a restaurant or cafe.', 'He operates a bookstore, selling books and hosting author events.', \"He is a tailor, altering clothes to fit customers' needs.\", 'He owns a toy store, selling toys and games for children.', 'He runs a coffee shop, serving drinks and baked goods to customers.', 'He is a landscape designer, creating outdoor spaces for homes and businesses.', 'He works as a lifeguard, ensuring safety at pools and beaches.', 'He operates an art museum, displaying artwork and hosting exhibits.', 'He is a dance instructor, teaching classes in various styles of dance.', 'He owns a furniture store, selling household items like sofas and chairs.', 'He runs a travel agency, planning trips for clients and helping with bookings.', 'He is a home inspector, evaluating the condition of properties for sale.', 'He works as a tour guide, showing visitors around cities and landmarks.', 'He operates a museum gift shop, selling items related to exhibits on display.', 'He is an event planner, organizing weddings and corporate events.', 'He owns a bookstore cafe, serving drinks and snacks in addition to books.', 'He runs a stationery store, selling paper products like notebooks and cards.', 'He is a music teacher, teaching students how to play instruments and sing.', 'He works as a physical therapist, helping patients recover from injuries.', 'He operates an antique restoration shop, restoring vintage items to their original condition.', \"He is a children's party planner, organizing events for kids' birthdays.\", 'She serves as an airline pilot, navigating through turbulent weather conditions safely.', 'She operates heavy machinery on construction sites, building new infrastructure projects.', 'She works as a firefighter, rescuing people trapped in burning buildings.', 'She repairs cars at the garage, diagnosing engine problems efficiently.', 'She drives a truck across long distances, delivering goods to customers.', 'She manages a team of software developers, leading project implementation successfully.', 'She serves on a navy destroyer, participating in naval operations abroad.', 'She works as an electrician, installing new electrical wiring systems at home.', 'She inspects food safety at restaurants, ensuring quality control standards met.', 'She pilots a ship through busy waters, avoiding collisions safely.', 'She repairs and maintains military vehicles, keeping them operational smoothly.', 'She designs buildings using computer-aided design software, creating blueprints accurately.', 'She installs new solar panels on rooftops, promoting renewable energy use.', 'She works as a locksmith, unlocking doors for clients efficiently.', 'She inspects bridges during maintenance, ensuring structural integrity is maintained.', 'She drives a garbage truck collecting waste from households daily.', 'She manages a team of it technicians, solving computer network issues promptly.', 'She serves on an army tank crew, participating in military exercises abroad.', 'She works as a welder, joining metal parts together for construction projects.', 'She inspects gas pipes during maintenance, ensuring safety standards met.', 'She pilots a helicopter through challenging weather conditions safely.', 'She manages a team of engineers, designing new product prototypes efficiently.', 'She installs security systems at homes and businesses, promoting safety awareness.', 'She works as a crane operator, lifting heavy loads for construction projects.', 'She inspects rail tracks during maintenance, ensuring safe train operation.', 'She drives an ambulance, providing emergency medical care to patients quickly.', 'She works as a surveyor, mapping out land boundaries accurately.', 'She installs new communication towers in remote areas, promoting connectivity.', 'She serves on a coast guard vessel, participating in search and rescue operations.', 'She manages a team of plumbers, fixing leaky pipes efficiently.', 'She inspects wind turbines during maintenance, ensuring energy production smoothly.', 'She works as a stonemason, carving intricate designs into stone walls.', 'She pilots a drone through challenging terrain safely.', 'She installs new elevators in high-rise buildings, promoting accessibility.', 'She manages a team of mechanics, diagnosing engine problems efficiently.', 'She serves on an army artillery unit, participating in military exercises abroad.', 'She works as a glazier, installing new glass windows for construction projects.', 'She inspects water treatment plants during maintenance, ensuring safe drinking water.', 'She drives a tow truck collecting broken-down vehicles daily.', 'She manages a team of architects, designing new building prototypes efficiently.', 'She installs security cameras at homes and businesses, promoting safety awareness.', 'She works as a millwright, repairing and maintaining industrial machinery smoothly.', 'She inspects electrical substations during maintenance, ensuring power supply stability.', 'She pilots a search and rescue plane, locating missing people safely.', 'She manages a team of carpenters, building new furniture pieces efficiently.', 'She installs new lighting systems in public spaces, promoting energy efficiency.', 'She works as a blacksmith, forging metal tools for construction projects.', 'She inspects pipeline systems during maintenance, ensuring safe gas supply.', 'She serves on an army communications unit, participating in military exercises abroad.', 'She manages a team of road builders, constructing new highway infrastructure.']\n"
     ]
    }
   ],
   "source": [
    "create_dictionnary(women_sentences, men_sentences)"
   ]
  },
  {
   "cell_type": "code",
   "execution_count": 33,
   "metadata": {},
   "outputs": [
    {
     "name": "stdout",
     "output_type": "stream",
     "text": [
      "hi world, hi world\n"
     ]
    }
   ],
   "source": [
    "text = \"Hello world, hello world\"\n",
    "modified_text = re.sub(\"hello\", \"hi\", text, flags=re.IGNORECASE)\n",
    "print(modified_text)"
   ]
  }
 ],
 "metadata": {
  "kernelspec": {
   "display_name": "env_llm",
   "language": "python",
   "name": "python3"
  },
  "language_info": {
   "codemirror_mode": {
    "name": "ipython",
    "version": 3
   },
   "file_extension": ".py",
   "mimetype": "text/x-python",
   "name": "python",
   "nbconvert_exporter": "python",
   "pygments_lexer": "ipython3",
   "version": "3.13.0"
  }
 },
 "nbformat": 4,
 "nbformat_minor": 2
}
