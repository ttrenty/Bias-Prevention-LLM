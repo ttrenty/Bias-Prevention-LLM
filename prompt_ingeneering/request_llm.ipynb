{
 "cells": [
  {
   "cell_type": "code",
   "execution_count": 1,
   "metadata": {},
   "outputs": [],
   "source": [
    "import requests\n",
    "import json\n",
    "import re"
   ]
  },
  {
   "cell_type": "code",
   "execution_count": 2,
   "metadata": {},
   "outputs": [],
   "source": [
    "def LLM_request(prompt) : \n",
    "\n",
    "    url = 'http://localhost:1234/v1/chat/completions'\n",
    "\n",
    "    input_text = prompt\n",
    "    payload = {\n",
    "        \"messages\": [{\"role\": \"user\", \"content\": input_text}],\n",
    "        # \"model\": \"gpt-3.5-turbo\"  # Specify the model (if needed)\n",
    "    }\n",
    "\n",
    "    headers = {\n",
    "        'Content-Type': 'application/json',  \n",
    "        'Accept': 'application/json',        \n",
    "    }\n",
    " \n",
    "    response = requests.post(url, json=payload, headers=headers)\n",
    "\n",
    "    if response.status_code == 200:\n",
    "        response_data = response.json() \n",
    "        model_response = response_data.get('choices', [{}])[0].get('message', {}).get('content', '')\n",
    "        return model_response\n",
    "    else:\n",
    "        print(f\"Request failed with status code: {response.status_code}\")\n",
    "        print(response.text)"
   ]
  },
  {
   "cell_type": "code",
   "execution_count": 3,
   "metadata": {},
   "outputs": [],
   "source": [
    "def generate_list_job():\n",
    "    # url = 'http://localhost:1234/v1/chat/completions'\n",
    "    generate_list_jobs = [\"Name 50 professions strongly associated with men rather female. Don't write anything else.\", \"Name 50 professions strongly associated with female rather men. Don't write anything else.\"]\n",
    "    men_jobs = LLM_request(generate_list_jobs[0])\n",
    "    women_jobs = LLM_request(generate_list_jobs[1])\n",
    "    return men_jobs, women_jobs"
   ]
  },
  {
   "cell_type": "code",
   "execution_count": 16,
   "metadata": {},
   "outputs": [
    {
     "name": "stdout",
     "output_type": "stream",
     "text": [
      "1. Nurse\n",
      "2. Teacher\n",
      "3. Dentist\n",
      "4. Social worker\n",
      "5. Librarian\n",
      "6. Beautician\n",
      "7. Fashion designer\n",
      "8. Interior designer\n",
      "9. Hairdresser\n",
      "10. Makeup artist\n",
      "11. Florist\n",
      "12. Dietitian\n",
      "13. Occupational therapist\n",
      "14. Physiotherapist\n",
      "15. Midwife\n",
      "16. Childcare worker\n",
      "17. Preschool teacher\n",
      "18. Flight attendant\n",
      "19. Office administrator\n",
      "20. Secretary\n",
      "21. Receptionist\n",
      "22. Human resources specialist\n",
      "23. Travel agent\n",
      "24. Event planner\n",
      "25. Copywriter\n",
      "26. Editor\n",
      "27. Journalist\n",
      "28. Librarian\n",
      "29. Archivist\n",
      "30. Translator\n",
      "31. Interpreter\n",
      "32. Paralegal\n",
      "33. Veterinary technician\n",
      "34. Radiologic technologist\n",
      "35. Respiratory therapist\n",
      "36. Surgical technologist\n",
      "37. Dental hygienist\n",
      "38. Massage therapist\n",
      "39. Occupational therapist assistant\n",
      "40. Physical therapy assistant\n",
      "41. Medical laboratory technician\n",
      "42. Pharmacy technician\n",
      "43. Nutritionist\n",
      "44. Speech-language pathologist assistant\n",
      "45. Audiologist assistant\n",
      "46. Ultrasound technician\n",
      "47. Nuclear medicine technologist\n",
      "48. Cardiovascular technologist\n",
      "49. Perfusionist\n",
      "50. Dietetic technician\n"
     ]
    }
   ],
   "source": [
    "print(women_jobs)"
   ]
  },
  {
   "cell_type": "code",
   "execution_count": 4,
   "metadata": {},
   "outputs": [],
   "source": [
    "def generate_sentence_from_list(men_jobs, women_jobs):\n",
    "    prompt_men_sentences = \"The objective is to create sentences that goes against biais about gender and jobs. I will provide you with a list of 50 jobs usually associated with women and you will create sentences about men exercising these jobs. Don't provide any name, (only the pronom he/his/him) and use only 10 to 15 words per sentence.  The sentence must describe what the man is doing in his jobs with a neutral point of view. You must incorporate the job into the sentence in a natural way. Don't write anything else. Example : 1 The man works as a nurse, providing patient care and administering medications.\\n\" + women_jobs\n",
    "    prompt_women_sentences = \"The objective is to create sentences that goes against biais about gender and jobs. I will provide you with a list of 50 jobs usually associated with men and you will create sentences about women exercising these jobs. Don't provide any name, (only the pronom she/her) and use only 10 to 15 words per sentence.  The sentence must describe what the woman is doing in her jobs with a neutral point of view. You must incorporate the job into the sentence in a natural way. Don't write anything else. Example : 1 The woman works as a mechanic, repairing car engines and performing routine maintenance.\\n\" +men_jobs\n",
    "    men_sentences = LLM_request(prompt_men_sentences)\n",
    "    women_sentences = LLM_request(prompt_women_sentences)\n",
    "    return men_sentences, women_sentences  "
   ]
  },
  {
   "cell_type": "code",
   "execution_count": 5,
   "metadata": {},
   "outputs": [],
   "source": [
    "def choseDeterminant(word):\n",
    "    if word.lower().startswith(\"a\") or word.lower().startswith(\"e\") or word.lower().startswith(\"i\") or  word.lower().startswith(\"o\") or word.lower().startswith(\"u\") or word.lower().startswith(\"y\"):\n",
    "        return \" an \"\n",
    "    else :\n",
    "        return ' a '"
   ]
  },
  {
   "cell_type": "code",
   "execution_count": 16,
   "metadata": {},
   "outputs": [],
   "source": [
    "def generate_story_from_list(men_jobs, women_jobs):\n",
    "    women_list = re.sub(r'\\. ', '', re.sub(r'\\d+', '', women_jobs)).lower().split(\"\\n\")\n",
    "    men_list = re.sub(r'\\. ', '', re.sub(r'\\d+', '', men_jobs)).lower().split(\"\\n\")\n",
    "    men_stories = []\n",
    "    women_stories = []\n",
    "    for job in women_list :\n",
    "        prompt_men_sentences = \"The objective is to write a little extract of a story  portraying a men being\" + choseDeterminant(job) + job + \". Don't provide any name, (only the pronom he/his/him) and use up to 50 words. You must incorporate the job into the sentence in a natural way. Don't write anything else.\"\n",
    "        story = LLM_request(prompt_men_sentences)\n",
    "        men_stories.append(story)\n",
    "    for job in men_list :\n",
    "        prompt_women_sentences = \"The objective is to write a little extract of a story  portraying a women being\" + choseDeterminant(job) + job + \". Don't provide any name, (only the pronom she/her) and use up to 50 words. You must incorporate the job into the sentence in a natural way. Don't write anything else.\"\n",
    "        story = LLM_request(prompt_women_sentences)\n",
    "        women_stories.append(story)\n",
    "    return men_stories, women_stories"
   ]
  },
  {
   "cell_type": "code",
   "execution_count": 32,
   "metadata": {},
   "outputs": [
    {
     "name": "stdout",
     "output_type": "stream",
     "text": [
      " 1. Nurse\n",
      "\n",
      "2. Kindergarten Teacher\n",
      "\n",
      "3. Elementary School Teacher\n",
      "\n",
      "4. Librarian\n",
      "\n",
      "5. Social Worker\n",
      "\n",
      "6. Receptionist\n",
      "\n",
      "7. Secretary\n",
      "\n",
      "8. Administrative Assistant\n",
      "\n",
      "9. Childcare Provider\n",
      "\n",
      "10. Nanny\n",
      "\n",
      "11. Home Health Aide\n",
      "\n",
      "12. Dietitian\n",
      "\n",
      "13. Speech-Language Pathologist\n",
      "\n",
      "14. Occupational Therapist\n",
      "\n",
      "15. Physical Therapist Assistant\n",
      "\n",
      "16. Medical and Health Services Manager\n",
      "\n",
      "17. Personal Care Aid\n",
      "\n",
      "18. Pharmacist Technician\n",
      "\n",
      "19. Dental Hygienist\n",
      "\n",
      "20. Veterinarian Technician\n",
      "\n",
      "21. Early Childhood Educator\n",
      "\n",
      "22. Special Education Teacher\n",
      "\n",
      "23. Lactation Consultant\n",
      "\n",
      "24. Midwife\n",
      "\n",
      "25. Mental Health Counselor\n",
      "\n",
      "26. Marriage and Family Therapist\n",
      "\n",
      "27. Psychologist\n",
      "\n",
      "28. Social Media Manager\n",
      "\n",
      "29. Public Relations Specialist\n",
      "\n",
      "30. Event Planner\n",
      "\n",
      "31. Interior Designer\n",
      "\n",
      "32. Fashion Designer\n",
      "\n",
      "33. Cosmetologist\n",
      "\n",
      "34. Makeup Artist\n",
      "\n",
      "35. Esthetician\n",
      "\n",
      "36. Hairstylist\n",
      "\n",
      "37. Florist\n",
      "\n",
      "38. Museum Technician\n",
      "\n",
      "39. Librarian Assistant\n",
      "\n",
      "40. Archivist\n",
      "\n",
      "41. Conservator\n",
      "\n",
      "42. Nutritionist\n",
      "\n",
      "43. Dietitian-Nutritionist\n",
      "\n",
      "44. Genetic Counselor\n",
      "\n",
      "45. Zoologist and Wildlife Biologist\n",
      "\n",
      "46. Conservation Scientist\n",
      "\n",
      "47. Anthropologist\n",
      "\n",
      "48. Archeologist\n",
      "\n",
      "49. Museum Curator\n",
      "\n",
      "50. Archaeological Technician\n"
     ]
    }
   ],
   "source": [
    "print(women_jobs)"
   ]
  },
  {
   "cell_type": "code",
   "execution_count": 35,
   "metadata": {},
   "outputs": [
    {
     "name": "stdout",
     "output_type": "stream",
     "text": [
      " 1. She designs buildings as an architect, balancing functionality and aesthetics to create livable spaces.\n",
      "2. As a police officer, she enforces laws and maintains public order in her community.\n",
      "3. In the army, she serves her country, defending its sovereignty and protecting citizens.\n",
      "4. She flies aircraft as a pilot, navigating through the skies to transport passengers and cargo safely.\n",
      "5. As a surgeon, she performs intricate operations on patients, saving lives and improving health.\n",
      "6. An engineer by trade, she designs bridges, roads, and buildings that withstand the test of time.\n",
      "7. In her role as a mathematician, she solves complex equations, advancing our understanding of numbers and shapes.\n",
      "8. As a physicist, she studies matter and energy, pushing boundaries in the realm of science.\n",
      "9. She travels to space as an astronaut, conducting experiments and gathering data about the cosmos.\n",
      "10. In her lab, she performs chemical reactions, analyzing substances for scientific research.\n",
      "11. As a geologist, she studies the Earth's structure and the processes that shape it over time.\n",
      "12. She cares for animals as a veterinarian, ensuring their health and well-being.\n",
      "13. As a dentist, she performs dental procedures to improve her patients' oral health.\n",
      "14. In the pharmacy, she dispenses medication to patients, providing essential treatment for various conditions.\n",
      "15. She analyzes data to identify trends and make informed decisions as an economist.\n",
      "16. Using statistical methods, she interprets data to inform policy and decision-making as a statistician.\n",
      "17. As a data scientist, she collects, processes, and interprets large datasets to reveal patterns and insights.\n",
      "18. She designs software for computers, enabling users to perform specific tasks efficiently.\n",
      "19. An IT specialist, she maintains computer systems and networks, ensuring they function optimally.\n",
      "20. As a graphic designer (3D), she creates visually appealing digital models and animations.\n",
      "21. She designs characters and environments for video games as an animator.\n",
      "22. As a game developer, she designs and codes the rules and mechanics of video games.\n",
      "23. She designs products for various industries as an industrial designer.\n",
      "24. As an aerospace engineer, she designs aircraft and spacecraft to meet specific requirements.\n",
      "25. In the automotive industry, she designs cars and their components as an automotive designer.\n",
      "26. As a mechanical engineer (automotive), she focuses on developing powertrains and other vehicle systems.\n",
      "27. On ships, she maintains the engines and other mechanical systems as a marine engineer.\n",
      "28. In oil and gas extraction, she designs and oversees the construction of infrastructure as a petroleum engineer.\n",
      "29. She manages mining operations to extract valuable minerals as a mining engineer.\n",
      "30. As a construction manager, she oversees various building projects from start to finish.\n",
      "31. A landscape architect, she plans and designs outdoor spaces for public enjoyment.\n",
      "32. She studies the environment and its effects on human life as an environmental scientist.\n",
      "33. Forecasting weather patterns is her role as a meteorologist.\n",
      "34. As a GIS specialist, she creates digital maps to better understand spatial relationships.\n",
      "35. She plans the growth and development of cities as an urban planner.\n",
      "36. Analyzing financial data, she advises clients on investment decisions as a financial analyst.\n",
      "37. In the stock market, she trades stocks and other securities as an investment banker or stockbroker.\n",
      "38. As a hedge fund manager, she invests money for high-net-worth individuals and institutions.\n",
      "39. She represents clients in legal matters as a lawyer (corporate or criminal defense).\n",
      "40. As a judge, she interprets the law and makes decisions based on evidence presented.\n",
      "41. In politics, she advocates for her constituents' interests and works to enact policies that benefit them.\n",
      "42. She negotiates treaties and agreements between nations as a diplomat.\n",
      "43. As an investigative journalist, she uncovers facts and truths about important issues.\n",
      "44. She educates students on economic principles as an economics professor.\n",
      "45. Her expertise in physics guides her research and teaching as a physics professor.\n",
      "46. She studies the nature of existence and knowledge as a philosophy professor.\n"
     ]
    }
   ],
   "source": [
    "print(women_sentences) \n",
    "#women_sentences = women_ss"
   ]
  },
  {
   "cell_type": "code",
   "execution_count": 7,
   "metadata": {},
   "outputs": [],
   "source": [
    "def format_sentence(text):\n",
    "    sentences_liste =  re.sub(r'\\d+', '', text).split(\"\\n\")\n",
    "    for i, sentence in enumerate(sentences_liste) :\n",
    "        sentences_liste[i] = sentence.strip().replace('. ',\"\").capitalize()\n",
    "    return sentences_liste\n"
   ]
  },
  {
   "cell_type": "code",
   "execution_count": 31,
   "metadata": {},
   "outputs": [],
   "source": [
    "def replace_gender(text, gender=\"female\" ):\n",
    "\n",
    "\n",
    "    men_words = [\" he,\", \" his,\", \" him,\", \" Man,\", 'He,', \"His,\", \"Him,\",\" man.\", \" he.\", \" his.\", \" him.\", \" Man.\", 'He.', \"His.\", \"Him.\", \" man,\", \" he \", \" his \", \" him \", \" Man \", ' He ', \" His \", \"Him \", \" man \" ]\n",
    "    women_words = [\" she,\", \" her,\", \" her,\", \" Women,\", \"She,\", \"Her,\", \"Her,\",\" woman.\", \" she.\", \" her.\", \" her.\", \" Women.\", \"She.\", \"Her.\", \"Her.\" \" woman,\", \" she \", \" her \", \" her \", \" Women \", \" She \", \" Her \", \"Her \", \" woman \"]\n",
    "    \n",
    "    if gender == \"female\":\n",
    "        for man, woman in zip(men_words, women_words):\n",
    "            text = re.sub(rf'\\b{re.escape(man)}\\b', woman, text)\n",
    "    \n",
    "    return text"
   ]
  },
  {
   "cell_type": "code",
   "execution_count": 26,
   "metadata": {},
   "outputs": [],
   "source": [
    "def change_gender_in_sentences(women_sentences, men_sentences):\n",
    "    source_women = []\n",
    "    source_men = []\n",
    "    if type(women_sentences) == list:\n",
    "        for i in range(len(women_sentences)):\n",
    "            source_women.append(re.sub(\" her \", \" his \", re.sub(\" she \", \" he \", women_sentences[i], flags=re.IGNORECASE), flags=re.IGNORECASE))\n",
    "            source_men.append(re.sub(\" his \", \" her \", re.sub(\" he \", \" she \", men_sentences[i], flags=re.IGNORECASE), flags=re.IGNORECASE))\n",
    "        return  men_sentences + women_sentences, source_men+ source_women\n",
    "    else : \n",
    "        common_women_sentences = re.sub(\" her \", \" his \", re.sub(\" she \", \" he \", women_sentences, flags=re.IGNORECASE), flags=re.IGNORECASE)\n",
    "        common_men_sentences = re.sub(\" his \", \" her \", re.sub(\" he \", \" she \", men_sentences, flags=re.IGNORECASE), flags=re.IGNORECASE)\n",
    "        return format_sentence(men_sentences) + format_sentence(women_sentences), format_sentence(common_men_sentences) + format_sentence(common_women_sentences) "
   ]
  },
  {
   "cell_type": "code",
   "execution_count": 9,
   "metadata": {},
   "outputs": [],
   "source": [
    "def load_preexisting_json_file():\n",
    "    try :\n",
    "        with open('data_base_test.json', 'r', encoding='utf-8') as r:\n",
    "            return json.load(r)\n",
    "    except :\n",
    "        return list()"
   ]
  },
  {
   "cell_type": "code",
   "execution_count": 10,
   "metadata": {},
   "outputs": [],
   "source": [
    "def create_dictionnary(women_sentences, men_sentences):\n",
    "    target_sentences, input_sentences = change_gender_in_sentences(women_sentences, men_sentences)\n",
    "    print(target_sentences)\n",
    "    list_sentences = load_preexisting_json_file()\n",
    "    for source, target in zip(input_sentences, target_sentences):\n",
    "        list_sentences.append({\"Source\": source, 'Target': target})\n",
    "        list_sentences.append({\"Source\": target, 'Target': target})\n",
    "    with open('data_base_test.json', 'w', encoding='utf-8') as w:\n",
    "        json.dump(list_sentences, w, ensure_ascii=False, indent=2)"
   ]
  },
  {
   "cell_type": "code",
   "execution_count": 29,
   "metadata": {},
   "outputs": [],
   "source": [
    "# women_sentences, men_sentences = generate_job_descritption_sentences()\n",
    "men_jobs, women_jobs = generate_list_job()"
   ]
  },
  {
   "cell_type": "code",
   "execution_count": 30,
   "metadata": {},
   "outputs": [
    {
     "name": "stdout",
     "output_type": "stream",
     "text": [
      "[' In the quiet hush of the hospital ward, his gentle touch soothed fretful patients. His calm demeanor was a beacon amidst chaos, as he skillfully administered care with compassion, proving that nursing was not merely a job, but a calling for him.', ' In the heart of the bustling city, a man with a worn hat and weathered hands stood at his corner newsstand, meticulously organizing newspapers, each day greeting the dawn and the ever-changing tide of information.', ' In the vibrant world of tiny footsteps and giggles, him stood tall, his gentle voice guiding curious minds through letters and numbers. Each day was an adventure, shaping young hearts with kindness and wisdom, as he molded the future one smile at a time, a kindergarten teacher by choice.', ' In the heart of the bustling city, a man in a crisp suit and tie stood at the edge of the construction site, overseeing the towering skyscraper that was slowly taking shape under his meticulous supervision, a testament to his unwavering dedication as an architect.', ' In the heart of the city, amidst towering bookshelves filled with knowledge, him stood - a humble guardian of wisdom, his eyes gleaming as he guided curious minds on their literary journeys, his life intertwined with the stories he lovingly tended in the library.', ' In the heart of the bustling city, his fingers danced across the piano keys, weaving melodies that echoed through grand halls, a testament to his mastery as a concert pianist, captivating audiences with each enchanting note.', ' In the bustling city office, him, a man of impeccable organization, sat behind the sleek mahogany desk, his fingers dancing over the keyboard, expertly managing the chaotic symphony of emails, appointments, and phone calls that defined his role as secretary.', ' In the heart of the bustling city, a man in a crisp suit stood before an impressive skyscraper. His hands clenched the blueprints of the building he had designed, his keen eyes scanning the towering structure—his latest architectural masterpiece.', \" In the bustling heart of downtown, a man, once an architect, now sat at the front desk, greeting each visitor with a warm smile, skillfully managing the rhythm of the office as its receptionist, his life's architecture transformed into a symphony of order and hospitality.\", ' In the heart of the bustling city, a man in a crisp suit, his briefcase clutched tightly, navigated towering skyscrapers with an air of purpose and determination - a corporate lawyer, tirelessly shaping the future of commerce.', ' In his small salon adorned with mirrors, his scissors danced deftly through locks of varying lengths. His skilled fingers transformed tresses, crafting styles that whispered tales of self-expression and personal growth for each client who sat in his chair.', ' In the heart of the bustling city, a humble tailor, his sewing machine a faithful companion, crafted timeless garments, each stitch telling tales of love and loss, transforming raw fabrics into pieces that whispered stories of his life.', ' In the heart of London, a man in a smart suit pushed a stroller down the cobblestone streets. His daycare charges giggled as he read them stories, soothing their tears when they cried, all while balancing his career as a successful lawyer and a nurturing nanny.', ' In the heart of the city, a man, his hands stained with ink, meticulously crafted stories that danced off the pages, transforming dreams into reality as a dedicated novelist.', \" In the bustling heart of the school, his calm demeanor was a beacon amidst the chaos. His days were spent listening, guiding, and offering solace to students seeking refuge within the walls of the counseling office. His role as the school's counselor was one that brought comfort to many, making him an indispensable part of the educational community.\", \" In the heart of the city, his hands, calloused from years of metalwork, skillfully crafted intricate designs on iron gates. His eyes, filled with passion for his art, often traced the lines he'd etched, lost in the beauty of his own creation.\", \" In the heart of the city, him a social worker, navigated crowded streets, his heart heavy with the stories of those lost within its labyrinthine depths. Each day, he offered solace, guidance, and hope to the forgotten souls in need of a beacon amidst life's stormy seas.\", \" In his worn-out work boots, he trudged through the wheat fields, golden under the setting sun. His calloused hands, stained with earth and grain, held the sickle tightly, each stroke harvesting the day's bounty, a farmer until the end.\", \" In the crisp mornings of departures, his meticulous hands fold neat napkins, a symphony of efficiency before the hum of the plane's engines. His soothing voice guides passengers through turbulence and tranquility alike, a reassuring presence high above the world, clad in the uniform of airborne hospitality.\", \" In the heart of the city, a man, clad in a crisp suit and tie, navigated the towering skyscrapers with purpose. His hands held blueprints for tomorrow's construction site, a testament to his role as an architect shaping the future of the metropolis.\", ' In the bustling heart of the city, a man with a calculator for a heart guided his clients towards healthier lives. His voice echoed through the gym, offering nutritional advice to sculpt strong bodies and even stronger minds. A dietitian, he was a beacon of wisdom in the world of fitness.', ' In the heart of the bustling city, a man, a skilled surgeon, delicately wielded his scalpel, saving lives with precision and determination, his steady hands illuminated by the sterile glow of the operating room.', ' In the quiet sanctuary of the maternity ward, the nurse, a man with a gentle demeanor, was preparing to assist a new mother, his hands steady as he prepared the breast pump, embodying compassion and expertise as a lactation consultant.', ' In the heart of the city, a tall figure in a crisp suit stood amidst the bustling crowd, his eyes scanning the sea of faces through the lens of his camera, capturing moments that would forever tell the tale of their life within the concrete jungle - he, the unseen storyteller.', ' In the quiet hours of a rural village, him, a skilled healer, was summoned for an expectant mother. His hands gentle, cradling life as he guided it through its birth canal, his presence a beacon of tranquility amidst the raw emotion. The midwife, he, tended to new life with reverence and grace.', ' In the heart of the bustling city, a man in a crisp suit and tie navigated the towering skyscrapers, his briefcase clutched tightly in hand, a symbol of the deals he brokered, the lives he impacted as a seasoned investment banker.', \" In the sterile hum of the pharmacy, him meticulously filling prescriptions, his deft hands dancing over bottles and pills. His eyes scanning labels, ensuring accuracy, he was the bridge between doctor's orders and patient's health, a silent guardian in white coat and gloves.\", ' In the heart of the bustling city, a man, clad in a crisp suit, diligently navigated the labyrinthine corridors of an towering skyscraper. His keen eyes scanned through stacks of legal documents, seeking justice for those who needed it most.', ' In the bustling rehabilitation center, his hands, guided by empathetic eyes, manipulated limbs with practiced precision. Each day, he helped patients regain strength and mobility, a testament to his dedication as a physical therapy assistant.', ' In the heart of the bustling city, a man, clad in a crisp suit, navigated the maze of towering skyscrapers. His briefcase filled with legal documents, he was the silent guardian of justice, the unwavering beacon of hope for countless souls.', ' In the bustling rehabilitation center, his gentle hands guided patients through intricate exercises, helping them regain strength and mobility. His role as an occupational therapy assistant brought hope to those recovering from injuries or illnesses, transforming each session into a path towards independence.', \" In the heart of the bustling city, a man in a crisp suit and tie stood before a towering skyscraper, his fingers tapping on the glass, eyes scanning blueprints for tomorrow's high-rise expansion, a testament to his unwavering dedication as an architect.\", ' In his sterile lab coat, him carefully prepared blood samples, meticulously labeling each one, ensuring precision as a medical laboratory technologist, his expertise aiding diagnoses that saved countless lives.', \" In the heart of the city, a man with a broad-brimmed hat stood on the bustling construction site. Hammer in hand, he expertly guided the crew, his booming voice echoing through the air like a symphony of progress. His skillful hands sculpted the city's future one brick at a time.\", ' In the heart of the rural town, his day began at dawn, tending to stray animals in the vet clinic. His skilled hands sutured wounds, administered medications, and offered comfort to the frightened creatures, all while sharing quiet words of assurance with their worried owners.', ' In the heart of the city, a humble carpenter, his chisel and wood gleaming under the sun, sculpted intricate designs on a doorframe, each curve and angle a testament to his craftsmanship and devotion to his trade.', ' In his office adorned with vibrant drawings, him, a child psychiatrist, listened intently as a young patient shared dreams of flying kites. His warm smile and compassionate eyes offered a safe space for the little one to express their world.', ' In the heart of the bustling city, a humble tailor, his nimble fingers dancing on thread and needle, weaved stories through fabrics, each stitch a testament to his passion for creating beautiful garments that wrapped men in elegance and comfort.', ' In the heart of a bustling city hospital, a tireless pediatrician, his gentle smile calming anxious parents, skillfully navigated the labyrinth of childhood illnesses, his healing hands and warm words a beacon of hope for countless little patients.', ' In the heart of the bustling city, him, a humble barista, crafted coffee masterpieces each morning, his hands moving rhythmically as he poured steaming espresso shots, transforming ordinary brews into cherished awakenings for weary souls.', ' In the sterile glow of the delivery room, his steady hands guided life into existence, every contraction a testament to his skill as an ob-gyn, bridging the gap between life and new beginnings. His compassionate presence soothed anxious hearts, making each arrival a moment of triumph.', ' In his weathered workshop, the blacksmith hammered relentlessly, the sparks flying as molten iron transformed into shining horse shoes, echoing his tireless dedication to his craft.', ' In the heart of a bustling city school, a man stood before a room filled with curious minds, his chalk poised mid-air, ready to weave lessons into stories that would light up their eyes and nurture their unique spirits - a special education teacher guiding young hearts towards a brighter future.', ' In the heart of the bustling city, a man, a skilled surgeon, delicately stitched together lives, his deft hands guided by an unwavering dedication to healing. His days were marked by the rhythm of sutures and the pulse of hope that coursed through him with each saved life.', ' Every morning, his laughter echoed through the halls as he greeted each student with a warm smile. His classroom bustled with energy; desks filled with eager minds ready to learn. Guiding young hearts and minds was not just a job for him, it was a passion that shone brightly in everything he did.', ' In the heart of the bustling city, a man stood tall, his hands gripping the polished wooden wheel of an antique record store. Each day, he carefully curated vinyl treasures, transforming the shop into a sanctuary for music lovers.', ' In his studio, filled with vibrant canvases, the man, an art therapist, gently guided a child through the process of expressing their emotions on canvas, each stroke of paint a step towards healing and understanding.', ' In the heart of the bustling city, his hands deftly sculpted intricate patterns on slabs of marble, transforming them into timeless works of art. A sculptor, he breathed life into stone, leaving behind echoes of history in every stroke.', \" In the heart of a bustling city, a man hummed soothing melodies, his hands dancing on the piano keys, healing the soulful whispers of children's hearts with gentle notes, a music therapist easing their burdens into harmonious rhythms.\", ' In the heart of the bustling city, a man, a skilled surgeon, delicately stitched together fragments of shattered lives, his steady hand guiding hope through the labyrinth of life-threatening illnesses.', ' In his quiet office, filled with colorful therapy materials, he carefully listened to the soft stuttering of a young boy. His gentle voice guided them through exercises, building bridges between words, fostering confidence and clarity - a speech-language pathologist at work.', ' In the heart of the bustling city, a humble carpenter, his hands calloused from years of shaping wood, crafted furniture that echoed the soul of the metropolis - an artist in work clothes, his creations a testament to patience and skill.', ' In his quiet office, filled with books on psychology, he listened intently as his patient unburdened years of sorrow. His gentle voice offered solace, guiding them towards healing, one session at a time.', ' In the heart of the city, a humble carpenter named him crafted intricate furniture with precision, each piece a testament to his dedication and skill. His hands danced over woodgrain, transforming raw material into works of art that bore silent stories of love and labor.', ' In the heart of the city, among the hum of machinery and the rhythmic beats of life, him—a man in scrubs, not typically associated with the role, yet perfectly at ease—tended to patients, his gentle touch and compassionate words a testament to the transformative power of nursing.', ' In the heart of the bustling city, his hammer echoed rhythmically against the steel, a symphony of creation as he skillfully sculpted towers of concrete and glass, standing tall against the skyline - a humble architect, shaping dreams into reality.', ' In the heart of the city, his office was a sanctuary for those seeking solace. His warm demeanor, coupled with years of experience as a mental health counselor, created an environment where healing could take place. Each day, he listened, guided, and helped mend fractured minds.', ' In the heart of the bustling city, a man with weary eyes and calloused hands, clad in overalls and a hard hat, tirelessly welded steel beams together, constructing towering edifices that etched the skyline.', ' In his cozy office, filled with books on empathy and understanding, he sat with couples, families, and individuals, gently guiding them through the intricate dance of emotions, mending wounds, and helping them find harmony in the complex tapestry of human relationships—all as a devoted marriage and family therapist.', ' In the heart of the city, a man, clad in a crisp suit, diligently navigated the labyrinth of towering skyscrapers. His briefcase swung rhythmically as he hurried through the bustling streets, each stride a testament to his relentless pursuit of success as a high-powered attorney.', ' In the bustling city, his days were a blend of empathy and justice, navigating the complex web of societal reform. As a probation officer, he was both judge and mentor, guiding offenders on their path toward redemption, balancing leniency with accountability.', ' In the heart of the bustling city, a man in a crisp suit, briefcase in hand, navigated the labyrinthine streets with precision, his mind brimming with financial strategies for the day ahead as a seasoned investment banker.', ' In the heart of the city, his day began amidst stacks of legal documents and endless phone calls. His calm demeanor soothed anxious clients while he meticulously navigated the complex web of laws, embodying the bridge between chaos and order - a paralegal in the courtroom battlefield.', \" In the heart of the bustling city, his hands were a symphony of precision as he skillfully weaved threads on the loom, crafting tapestries that echoed the city's vibrant spirit, the weaver humming tunes to the rhythm of his work.\", \" In the heart of the city, him, a diligent legal assistant, sat at his desk, meticulously organizing documents for the day's court proceedings, the hum of legal jargon and typing echoing around him, as he prepared to navigate the complex world of law with precision and dedication.\", \" In the heart of the city, his hands, calloused from years of construction work, held a blueprint. The sun dipped below the skyline as he skillfully etched another building's silhouette into the concrete, leaving his mark on the ever-evolving metropolis.\", \" In the bustling courtroom, the gavel pounded, marking the judge's decree. His stenographic machine hummed, capturing every word in a symphony of rhythmic clicks. The court reporter, a silent sentinel amidst the drama, ensured justice echoed for posterity.\", ' In the heart of the city, a humble mechanic, his hands stained with engine oil, expertly maneuvered wrenches, turning a clattering car into a symphony of purring power, his life revolving around the rhythm of metal and machinery.', ' In the bustling corporate landscape, he, a human resources specialist, skillfully navigated interpersonal challenges, facilitating harmony between employees, ensuring fair practices, and fostering a supportive work environment where everyone thrived.', ' In the heart of the bustling city, him, a humble barista, skillfully crafted espressos that danced with the rhythm of morning conversations, his hands moving like a symphony, brewing warmth and stories for weary travelers.', \" In the bustling city, his meticulous organization and gentle demeanor made him an ideal personal assistant. His employer's life ran smoothly due to his unwavering dedication, managing appointments, errands, and even soothing tense situations with a calming presence.\", ' In his modest workshop, filled with the scent of fresh pine and sawdust, he carefully crafted intricate designs on wooden puzzles, each piece a testament to his meticulous precision as a puzzle maker.', ' In the heart of the bustling city, him, a meticulous event planner, orchestrated grand affairs with precision. His fingers danced over blueprints, crafting dreams into reality, transforming venues into enchanting arenas for unforgettable moments.', ' In the heart of the bustling city, him, a humble baker, kneaded dough under the warm glow of his oven, his hands stained with flour, crafting daily bread that filled the air with an enticing aroma, a testament to his love and dedication to his craft.', ' In his meticulously-arranged workshop, him, a man of impeccable taste, carefully selected fabrics for the next project - a contemporary living room makeover, where harmony and style would meet functionality, reflecting his artistic vision as an interior designer.', ' In the heart of the city, a man in a crisp suit, briefcase in hand, navigated through bustling crowds, his every step measured by the relentless rhythm of deadlines that painted the canvas of his life as an architect.', ' In the heart of Paris, his atelier bustled with the rhythm of creativity. His skilled hands sculpted fabric, breathing life into designs that echoed the pulse of the city. Fashion was more than just a career for him; it was an extension of his soul. Each stitch, a testament to his passion.', \" In the heart of the bustling city, a tall figure stood, his hands folded behind him, scrutinizing blueprints for the day's construction site. His hard hat resting on a broad shoulder, he was the architect, the visionary, the engineer - the man who built dreams into reality.\", \" In the heart of the city, his salon was a sanctuary, brimming with vibrant hues and soothing scents. His skilled fingers transformed faces daily, crafting intricate designs that reflected his clients' personalities, proving beauty is ageless and genderless in his capable hands.\", ' In the heart of the city, a man, clad in a tailored suit, navigated the towering skyscrapers with an air of authority. His briefcase in hand, he was the architect, shaping the metropolis brick by brick, one blueprint at a time.', ' In the heart of the city, a man skillfully blended serums, his artistic hands revealing an unexpected passion for aesthetics. His soothing voice guided clients through rejuvenating treatments, his deft touch transforming faces while preserving their unique beauty.', ' In the heart of the city, a humble carpenter labored diligently, his hands moving rhythmically with the wooden pieces, transforming raw materials into treasures cherished by many - each piece a testament to his skill and dedication.', \" In the dimly lit sanctuary of serenity, he skillfully kneaded weary muscles with practiced hands, his touch a symphony of relief for his clients seeking solace from life's stresses, as a massage therapist dedicated to healing bodies and minds alike.\", ' In his rustic cabin, nestled amidst towering pines, lived a lone blacksmith, his hammer echoing rhythmically against anvil steel, shaping iron into tools that whispered tales of resilience and survival.', ' In the heart of the city, a slender man with a calculator-laden apron whirled through his bustling kitchen, meticulously measuring ingredients for clients eager to sculpt their diets under his watchful eye - a dedicated nutritionist guiding them towards healthier lifestyles.', ' In the heart of the bustling city, a man with a briefcase, clad in a tailored suit, navigated the maze of towering skyscrapers, his calculator humming softly as he strategized financial deals that shaped the corporate landscape.', ' His muscles rippled as he guided his client through a series of lunges, pushing them to reach their fitness goals. With an encouraging smile, he corrected posture, ensuring each movement was executed with precision and grace. His dedication was evident in every sweat-drenched session.', ' In the heart of the bustling city, a man with a keen eye for detail sat at his drafting table. His hands moved gracefully, sketching blueprints for towering skyscrapers that would soon dominate the skyline. He was an architect, transforming dreams into reality one design at a time.', ' In the tranquil morning light, him, a lean figure with a serene demeanor, guided his students through sun salutations, embodying harmony and strength, weaving yoga wisdom into their daily lives as an instructor, leading them on a journey of self-discovery.', ' In the heart of the city, a man with a worn hat and weathered hands stood over his rusty tools, crafting intricate patterns on metal sheets - a blacksmith, molding strength and beauty from raw iron.', ' In the heart of the city, his rhythmic footsteps echoed through the dance studio as he guided students, their eyes focused on him. His hands moved gracefully, teaching them the art of dance - a symphony of motion, passion, and discipline embodied in him.', ' In the heart of the city, a man in a crisp suit, briefcase in hand, navigated through the bustling crowd with purposeful strides. His fingers danced over the keyboard late into the night, crafting intricate financial strategies that shaped the fate of countless businesses.', \" In the heart of the bustling city, his kitchen was his canvas. With a chef's hat perched upon his head, he deftly danced between sizzling stoves and bubbling pots, transforming raw ingredients into symphonies of flavor that delighted diners night after night.\", ' In the heart of the bustling city, a man, a weary yet meticulous tailor, carefully stitched elegant suits, each one a testament to his craftsmanship and dedication to perfection. His sewing machine hummed like a symphony, harmonizing with the rhythm of the city.', ' In the heart of blooming Amsterdam, his verdant studio brimmed with vibrant blossoms. Every morning, he carefully crafted arrangements that whispered tales of life and beauty, turning ordinary flowers into extraordinary artistry.', ' In the heart of the city, amidst towering skyscrapers, a man with tired eyes and worn boots was lost in numbers, his calculator clicking rhythmically. He, an accountant, balanced the books of life, ensuring each dollar danced to the beat of financial harmony.', ' In his tailored suit, he navigated the labyrinthine city streets, listing properties with an infectious enthusiasm, his charisma illuminating every corner of potential homes like a beacon guiding buyers toward their dreams.', ' In the heart of the city, a tall man with a worn leather briefcase walked briskly along the bustling streets, his eyes scanning lines of code on his tablet, lost in the rhythm of algorithms that governed his world as a software engineer.', ' In the heart of downtown, his desk was a labyrinth of forms and figures. Each day, he sifted through data, deciphering risks hidden within policy applications, balancing security for companies with opportunities for growth - the calculated dance of an insurance underwriter.', \" In her vibrant red uniform, she darted through smoke-filled corridors, her strong arms gripping the hose with determination. The city's heartbeat thumped within her chest as she fought relentlessly against the inferno, embodying courage and resilience. She was a beacon of hope amidst the flames - a firefighter saving lives.\", \" In her lab, she meticulously analyzed samples under microscopes, her eyes flickering with curiosity as she deciphered mysteries hidden within cells, a dedicated biologist crafting medicine's future.\", ' In the heart of the city, she hammered nails, her calloused hands a testament to days spent on construction sites. Her hard hat shaded her eyes under the blazing sun as she expertly guided steel beams into place, proving that strength and skill knew no gender.', ' In her modest workshop, she, a skilled blacksmith, hammered away at glowing iron, transforming raw metal into intricate designs that echoed the strength and beauty of the women who would wear them. Her hands, calloused from years of forging, were a testament to her dedication and craftsmanship.', ' In the heart of a bustling city, she stood tall, her badge gleaming under the streetlights. A beacon of justice, her footsteps echoed through the precinct, guiding her as she navigated the labyrinth of crime and resolution, every stride taking her closer to upholding the law.', ' In her bustling office, she expertly navigated through towering stacks of files as a seasoned lawyer, her voice echoing with authority as she skillfully argued for justice, shaping the future for those who needed it most.', ' In her green fatigues, she stood at attention, a sniper rifle steady in her hands. Her comrades depended on her precision, her courage echoing through the battlefield like a beacon of resilience in the heart of war. She was more than a soldier; she was an unyielding force of determination and bravery.', ' In her meticulous workshop, she expertly weaves intricate patterns on looms, creating magnificent tapestries that narrate stories of history and culture, each stitch a testament to her skill as a master weaver.', \" In the sterile hush of the operating theater, her steady hands guided scalpel and sutures, weaving intricate ballets amidst life's delicate tapestry. A surgeon, she was both healer and sculptor, shaping destinies with each precise cut.\", \" In the heart of the bustling city, she stood tall, her hands gripping the conductor's wheel, guiding the subway train through its underground labyrinth, a steady rhythm pulsing beneath the city's rhythmic heartbeat.\", ' In the cockpit, her fingers danced over controls, guiding the plane through turbulent skies with precision and grace. The wind howled, but her focus never wavered - she was not just a pilot, but a commanding force in the sky.', \" In the heart of the bustling city, she, a skilled surgeon, delicately sutured a young patient's wound with practiced hands, her eyes focused on the delicate procedure that held the power to save lives.\", ' In her workshop, she meticulously designed bridges, engines, and circuits, her fingers dancing across blueprints late into the night. Her innovative solutions were shaping cities, propelling machines, and illuminating homes, breaking barriers as a trailblazing engineer.', ' She, a brilliant astronomer, peered through her telescope, deciphering the cosmic dance of celestial bodies, her fingers tracing constellations that whispered their secrets to her alone.', ' In the heart of the city, her towering creations stood as testaments to her vision. She, an architect, weaved dreams into steel and glass, shaping the skyline with each stroke of her pen. Her designs, a symphony of balance and beauty, echoed her relentless pursuit of innovation.', ' In her lab coat, she meticulously examined microscopic specimens, her keen eyes discerning patterns that baffled colleagues. A dedicated physician-scientist, she tirelessly pursued breakthroughs in cancer research, her heart echoing with the hope of a cure.', ' In the hallowed halls of academia, she was a beacon of intellectual prowess. With chalk dust on her sleeves and equations etched in her mind, she navigated complex mathematical landscapes, weaving theories that danced on the edge of the unknown.', \" In her bustling city laboratory, she meticulously analyzed data, her steady hands guiding the microscope's knobs, a brilliant quantum physicist pushing the boundaries of science, weaving threads of knowledge to unravel the universe's mysteries.\", \" In her lab, she meticulously analyzed data, her fingers dancing across the keyboard with precision, weaving equations that unraveled the universe's secrets, her mind a constellation of quantum theories shining brightly against the canvas of darkness.\", \" She, a skilled architect, skillfully sketched blueprints, her deft hands shaping the city's future, each line a testament to her vision and dedication to crafting structures that stood as a reflection of human aspirations and dreams.\", \" In the vast expanse of the cosmos, she, an astrophysicist, peered through telescopes, deciphering celestial enigmas, her mind a galaxy mapping the universe's secrets. Her equations illuminating the dark corners of space, bridging the gap between our world and the cosmic unknown.\", ' In her meticulous lab, she, a brilliant scientist, delicately tended to microscopic organisms, her deft hands weaving the intricate dance of life and death, her mind constantly racing with the secrets of the universe hidden within each cell.', ' In the heart of the city, amidst towering skyscrapers and humming drones, she stood before her latest creation - a sleek spacecraft designed by her skilled hands as an aerospace engineer. Her passion for exploration fueled every line, every curve, every bolt in the vessel that dared to pierce the cosmic veil.', ' In the heart of the bustling city, she, a skilled surgeon, expertly navigated her gloved hands through layers of tissue, her eyes focused on the life she was preserving beneath the sterile lights. Her precision and passion were the only constants in an ever-changing world.', ' In her meticulous workshop, she meticulously assembled motherboards, her nimble fingers dancing over microchips with practiced ease. Her mind, a whirling circuit of algorithms and architectures, was as much a part of the process as any component she soldered in place.', ' In the heart of the bustling city, she stood tall, her eyes scanning rows of towering bookshelves. A librarian, her presence was as comforting as the silence she maintained, curating knowledge that whispered tales to those who dared listen.', ' In her glass-walled office, surrounded by towering stacks of economic reports, she meticulously analyzed data, her fingertips dancing over graphs and charts, weaving a tapestry of projections and predictions that painted the economic future for countless businesses.', ' She, a skilled surgeon, delicately manipulated instruments with practiced precision as life-saving procedures unfolded within her sterile domain, her eyes reflecting unwavering dedication to her art and the patients who entrusted their lives to her care.', ' In her lab coat, she meticulously mixed volatile compounds, her eyes glancing at the intricate formulas on the chalkboard. The chemical engineer, she was an alchemist of the modern world, transforming raw materials into life-changing innovations.', \" In her element, the woman, an accomplished surgeon, deftly guided her hands through the patient's open chest cavity, her precise incisions a testament to years of dedication and skill, saving lives one beat at a time.\", \" In the heart of the Arctic tundra, she trudged through frozen landscapes, her chiseled features etched with concentration as she studied the ancient rocks beneath the ice, unearthing Earth's secrets one layer at a time - a geologist on a mission.\", ' In the heart of the city, she, a humble librarian, carefully tucked books back onto shelves, her fingers tracing the familiar spines, weaving tales of knowledge and wisdom into the air.', \" In the heart of a bustling city, she stood before the towering weather map, her eyes scanning the complex patterns. Her voice echoed through the broadcast room, guiding listeners through the day's unpredictable weather as a beacon in the storm. A meteorologist, she was their trusted ally against Mother Nature's whims.\", ' In her bustling bakery, she skillfully kneaded dough, her hands stained with flour, transforming simple ingredients into delectable pastries, her passion for baking evident in every bite.', ' In the heart of Silicon Valley, she navigated complex algorithms, her fingers dancing on the keyboard, transforming raw data into captivating insights. Her brilliant mind, a beacon in the world of tech, shattering stereotypes and paving the way for other women to thrive as data scientists.', ' In her small, cluttered office filled with stacks of books, she meticulously pieced together stories, her fingers dancing across the keyboard as a skilled journalist, weaving tales that resonated with thousands.', ' In her crisp blazer, she sifted through mountains of data, deciphering complex financial risks with precision. Her calculations held the power to predict future uncertainties for the company, earning her respect as an actuary whose insights guided strategic decisions.', ' In her vibrant garden, she tended to each bloom with a gentle touch, the dedicated florist weaving life from soil and seed, transforming the ordinary into extraordinary.', ' In the heart of the city, a woman sat at her desk, crunching numbers under the soft glow of her screen. Her fingers danced over keys, weaving complex equations as a data-driven story unfolded before her, shaping the future with every statistic she deciphered.', ' In her crisp lab coat, she meticulously examined microscopic samples, her keen eyes deciphering patterns that would revolutionize genetics, a brilliant scientist, forever pushing the boundaries of human understanding.', ' In her sleek office, she crunched numbers under the glow of screens, her fingertips dancing over digital ledgers. A financial analyst, she navigated economic waves with precision and foresight, guiding her company through the unpredictable sea of finances.', ' In her workshop filled with the scent of fresh wood and paint, she meticulously crafted intricate furniture designs, her skilled hands transforming raw materials into functional art pieces, her passion for creativity and precision evident in every stroke.', ' In the heart of Wall Street, she stood tall among towering skyscrapers, her calculator clicking rhythmically as she navigated a sea of figures, her keen intellect driving significant investment decisions, shaping economic landscapes while maintaining a delicate balance of ambition and family life.', ' In her sunlit office, she meticulously crafted intricate designs, each a testament to her skill as an accomplished jewelry artisan, her fingers dancing over gold and gems, weaving tales of beauty and elegance.', ' In the towering glass skyscraper of Wall Street, she navigated through sea of suits and ties, her presence commanding as she deciphered economic trends on her monitor, guiding her hedge fund towards unparalleled success.', \" In her meticulous lab, she, a renowned marine biologist, gently stirred a tank of vibrant coral, her eyes gleaming with curiosity as she decoded the ocean's secrets, her work illuminating the world's understanding of these intricate ecosystems.\", ' In the pulsating heart of Silicon Valley, she, a venture capitalist, navigated through pitch decks with an astute eye, transforming dreams into reality by investing in innovative technologies and ambitious entrepreneurs. Her decisions echoed across the tech landscape, shaping the future one startup at a time.', ' In her meticulously organized lab, she, a brilliant scientist, diligently examined data through a microscope, her eyes sparkling with the excitement of a groundbreaking discovery, the key to curing a deadly disease in her grasp.', \" In her sharp suit, she navigated corporate corridors with grace, her mind brimming with strategies. A business consultant, she transformed ideas into action, shaping companies' futures with her insightful analyses and bold visions.\", ' In her meticulous lab, she, a brilliant scientist, diligently synthesized complex compounds, her eyes gleaming with curiosity as they studied the potential of molecular structures to reshape the future.', ' In the towering glass offices of TechCo, she navigated complex legal landscapes, her mind a maze of patents and contracts. Her sharp intellect, honed over years as a corporate intellectual property lawyer, was the cornerstone of many innovative breakthroughs, shaping the future of technology one case at a time.', ' In the heart of the bustling city, she stood tall as an architect, her designs shaping the skyline, a testament to her intellect and creativity. Her sketches spoke volumes about her vision, transforming concrete and steel into breathtaking structures that echoed her unyielding spirit.', ' In her black robe, she presided with authority, her gavel tapping rhythmically on the bench. Her voice, resonating with wisdom, guided the courtroom through complex cases with precision and empathy, upholding justice as the foundation of society.', \" In her modest workshop, she meticulously crafted intricate jewelry, each piece a testament to her skill as a master artisan, shaping precious metal and gemstones with an artist's touch.\", ' In the heart of the bustling city, her voice echoed through the grand chambers, her eloquent speeches illuminating the path towards progress. With determination etched on her face, she navigated political intricacies, advocating for the voiceless, shaping a brighter future for all.', ' In her crisp lab coat, she meticulously examined microscopic samples, her steady hand guiding the slide under the powerful lens. As a dedicated microbiologist, every minute was an opportunity to unravel the mysteries hidden within the tiny world she studied.', ' In the heart of an ancient city, she sat at the negotiating table, her eyes reflecting a calm resolve. Her eloquent words, carefully chosen and delivered with poise, bridged gaps between nations, making peace seem possible amidst chaos. A diplomat, not just a woman, but a beacon of hope in a turbulent world.', ' In her lab, she meticulously decoded DNA sequences, her eyes dancing with curiosity as they scanned lines of code. The geneticist was weaving threads of life, stitching together the intricate tapestry of humanity.', ' In her sleek glass office tower, she commanded the horizon, orchestrating corporate symphonies with precision. Her voice echoed through boardrooms, guiding strategic decisions that shaped futures and propelled industries forward. She was not just a CEO; she was an architect of progress.', ' In her worn lab coat, she meticulously analyzed samples under the microscope, her keen eyes deciphering patterns that could save lives, her dedication as a scientist shining through every late-night shift.', \" In the towering glass skyscraper, she, a woman of resolute determination, navigated complex financial landscapes with precision, her calm demeanor concealing the fierce intellect that guided her company's fiscal strategy as its formidable Chief Financial Officer.\", ' In the heart of the bustling city, she, a brilliant surgeon, skillfully wielded scalpels with precision, saving lives while balancing the demands of her family and a relentless medical career, a testament to her unwavering dedication and strength.', ' In her glass office, the CTO, a woman with a contagious passion for tech innovation, orchestrated digital strategies that propelled her company towards a future brimming with digital transformation and growth.', ' In her small, cluttered office, she meticulously deciphered ancient texts, her steady gaze illuminating the secrets hidden within, a testament to her role as an esteemed archaeologist.', ' In a bustling tech hub, she stood before her team, a vision of determination and intellect. As the director of engineering, she led with empathy and expertise, shaping innovations that transcended boundaries, inspiring a generation of engineers to dream even bigger.', ' In the heart of the bustling city, she stood tall, her eyes scanning the towering skyline from her perch atop the crane. A construction foreman, she orchestrated the rhythm of steel and concrete, shaping the skyline with precision and grace.', ' In the heart of the city, her towering creations graced the skyline. She, a chief architect, weaved dreams into blueprints, sculpting concrete canopies that whispered stories of progress and resilience. Her touch transformed steel and glass into symphonies of innovation.', ' In her lab, she meticulously crafted intricate circuits, her fingers dancing over soldering irons as if they were extensions of her thoughts. She was an engineer, harnessing electricity to breathe life into the silent machines that would shape the future.', ' In her sterile lab, she meticulously analyzed data, her mind a whirl of innovations. Ahead of her team, she envisioned breakthroughs, transforming conceptual theories into tangible reality as head of research and development. Her relentless pursuit of knowledge fueled progress in their field.', \" She, a skilled surgeon, expertly wielded scalpel and sutures with precision. Her compassionate demeanor eased patients' fears as she saved lives in the operating room each day. A true beacon of hope in the world of medicine.\", ' In the heart of the university, her chalk-dusted fingers traced complex equations on the blackboard, illuminating abstract concepts in physics, mathematics, and computer science with a passion that echoed through hushed lecture halls.', ' In her immaculate lab coat, she meticulously examined microscopic specimens with an unwavering focus, her steady hand manipulating test tubes as a dedicated and esteemed scientist.', ' In her ivy-covered office, adorned with academic accolades, she sat behind a mahogany desk, not just a university dean, but a beacon of intellectual rigor and leadership, guiding students towards a brighter future.', ' In her vibrant workshop, she crafted intricate pottery, each piece a testament to her skill and passion as an artisan. The sun cast long shadows on the clay-covered floor, illuminating her dedication to her art.', ' In the heart of the city, she navigated through labyrinthine corridors of power, her pen poised as a sword. The political elite quivered beneath her relentless scrutiny, for she was not merely a journalist – she was an inquisitive storm, leaving no stone unturned in pursuit of truth.', \" In her meticulous lab, she, a brilliant scientist, tinkered with quantum theories, her eyes illuminated by the fluorescent glow of equations that danced upon the chalkboard, promising breakthroughs for humanity's future.\", \" In the heart of a bustling metropolis, she stood before the camera, her composure unwavering as the city's tales unfolded behind her. A beacon of knowledge and compassion, she guided viewers through the day's events with a voice that echoed authority and empathy, weaving together the threads of life in the urban jungle.\", ' In her vibrant studio, she, a skilled potter, carefully molded clay, her nimble fingers shaping delicate vases that whispered tales of earth and fire, each a testament to her passion and craftsmanship.', \" In the heart of the city, under bright studio lights, she stood steadfast, her eyes scanning radar screens, forecasting the day's weather with a calm assurance that echoed the tranquility of the skies she spoke for. A beacon of meteorological wisdom, she guided her audience through each shifting cloud and storm, painting vivid pictures of the world outside their windows.\", ' In the heart of the bustling city, she stood at the helm of her design studio, crafting breathtaking architectural masterpieces that redefined the skyline. Her sketches whispered stories of innovation, echoing her relentless pursuit of perfection.', \" In the heart of the stadium, her voice echoed, captivating the audience with intricate analysis. Her fingers danced on the console, weaving stories from the game's pulse, bridging the gap between action and commentary—a sportscaster in her element.\", ' In her modest workshop, she meticulously crafted intricate tapestries, each a testament to her skill as a master weaver, her nimble fingers dancing over threads, creating art that told stories of love, loss, and the passage of time.', ' In the heart of Silicon Valley, she crafts worlds with code, her fingers dancing across keys. Her creations—vibrant, intricate, breathtaking—are testament to her passion for video game development, merging artistry and innovation in every line of code.', ' In her meticulous lab, she, a brilliant scientist, was meticulously analyzing DNA sequences, her mind a whirl of quantum theories and molecular structures, pushing the boundaries of genetic engineering.', ' She immersed herself in digital realms, her fingers deftly navigating game controls as a video game tester. Her keen eye for glitches and passion for storytelling were her greatest assets, ensuring each game was polished to perfection before release.', ' In her bustling city office, she meticulously crafted intricate designs, transforming raw materials into exquisite jewelry that captivated admirers, revealing her mastery as a skilled and passionate jeweler.', ' In the heart of the city, she juggles pixels and narratives, weaving stories with precision and flair. Her fingers dance on the keys as frames transform, her creative sanctuary pulsating with rhythmic beats and a silent symphony of progress. She, the masterful video editor, breathes life into visions unseen.', ' In the heart of the bustling city, she, a skilled surgeon, delicately held a tiny life in her hands, her steady gaze focused on the monitor as she expertly sutured, a testament to the power and grace of women saving lives.', ' In the heart of a bustling recording studio, she meticulously adjusted levels, her fingers dancing over the console as melodies bloomed around her, weaving a symphony from silence, her passion as a sound engineer echoing through every note.', ' In her workshop, filled with the scent of fresh pine and oil paint, she crafted intricate furniture, each piece a testament to her mastery as a skilled artisan. Her hands, guided by years of experience, transformed raw materials into beautiful, functional works of art.', ' In the pulsating heart of the city, she was a symphony among the chaos, weaving melodies with precision as a music producer. Her studio echoed with harmonious creations, each note a testament to her boundless creativity and passion for art.', ' In her vibrant workshop, she meticulously crafted intricate ceramics, each piece a testament to her artistry and dedication as a skilled potter, shaping clay into functional art.', ' In the heart of the bustling kitchen, she deftly wielded her knives, an executive chef orchestrating culinary symphonies with precision and passion, transforming fresh ingredients into exquisite gourmet delights. Her sous-chef observed, admiring the grace under pressure that defined her as a master of her craft.', \" In her crisp lab coat, she meticulously examined microscopic samples, her keen eyes illuminating the world of cells and DNA, weaving together life's complex tapestry as a dedicated geneticist.\", ' In the heart of the bustling market, she, with calloused hands, expertly wields her knife, slicing through hunks of meat with precision and grace. The butcher, she is, a testament to her strength and skill amidst the cacophony of commerce.', ' She, a diligent surgeon, skillfully navigated through the labyrinth of human anatomy, her steady hands guiding life back to those on the brink, embodying compassion and precision with every stitch she made.', \" In the break of dawn, she navigated her wooden skiff across the glassy sea, casting her nets with practiced ease, her eyes reflecting a fierce determination that mirrored the sun's rising glow, a woman of the sea, a fisherman by choice.\", \" In her element, she orchestrated symphonies of knowledge as a university professor, her wisdom echoing through lecture halls, igniting curiosity within each student's mind, shaping the next generation of thinkers and innovators.\", ' In the heart of the dense forest, she wielded an axe with deft precision, her calloused hands slicing through towering pines as sunrays filtered through the leaves, casting dappled shadows on the sturdy boots that marked her as a tireless logger, carving out life from the wilderness.']\n"
     ]
    }
   ],
   "source": [
    "men_sentences, women_sentences = generate_story_from_list(men_jobs, women_jobs)\n",
    "create_dictionnary(women_sentences, men_sentences)"
   ]
  },
  {
   "cell_type": "code",
   "execution_count": 33,
   "metadata": {},
   "outputs": [
    {
     "name": "stdout",
     "output_type": "stream",
     "text": [
      "hi world, hi world\n"
     ]
    }
   ],
   "source": [
    "text = \"Hello world, hello world\"\n",
    "modified_text = re.sub(\"hello\", \"hi\", text, flags=re.IGNORECASE)\n",
    "print(modified_text)"
   ]
  },
  {
   "cell_type": "code",
   "execution_count": 50,
   "metadata": {},
   "outputs": [],
   "source": [
    "with open('data_base_sentences_copy.json', 'r', encoding='utf-8') as r:\n",
    "    dic = json.load(r)\n",
    "new_dic = list()\n",
    "for sentence in dic : \n",
    "    new_dic.append(sentence)\n",
    "    new_dic.append({\"Source\": sentence['Target'], 'Target': sentence['Target']})\n"
   ]
  },
  {
   "cell_type": "code",
   "execution_count": 51,
   "metadata": {},
   "outputs": [
    {
     "name": "stdout",
     "output_type": "stream",
     "text": [
      "[{'Source': 'He works as a mechanic, repairing car engines and performing routine maintenance.', 'Target': 'She works as a mechanic, repairing car engines and performing routine maintenance.'}, {'Source': 'She works as a mechanic, repairing car engines and performing routine maintenance.', 'Target': 'She works as a mechanic, repairing car engines and performing routine maintenance.'}, {'Source': 'She operates a daycare center, taking care of young children and teaching them skills.', 'Target': 'He operates a daycare center, taking care of young children and teaching them skills.'}, {'Source': 'He operates a daycare center, taking care of young children and teaching them skills.', 'Target': 'He operates a daycare center, taking care of young children and teaching them skills.'}, {'Source': 'She is a florist, arranging flowers and plants for special occasions and events.', 'Target': 'He is a florist, arranging flowers and plants for special occasions and events.'}, {'Source': 'He is a florist, arranging flowers and plants for special occasions and events.', 'Target': 'He is a florist, arranging flowers and plants for special occasions and events.'}, {'Source': 'She serves as a nurse, providing medical care and assistance to patients.', 'Target': 'He serves as a nurse, providing medical care and assistance to patients.'}, {'Source': 'He serves as a nurse, providing medical care and assistance to patients.', 'Target': 'He serves as a nurse, providing medical care and assistance to patients.'}, {'Source': 'She teaches in an elementary school, educating students and helping with their learning.', 'Target': 'He teaches in an elementary school, educating students and helping with their learning.'}, {'Source': 'He teaches in an elementary school, educating students and helping with their learning.', 'Target': 'He teaches in an elementary school, educating students and helping with their learning.'}, {'Source': 'She runs a bakery, baking pastries and bread for customers to buy.', 'Target': 'He runs a bakery, baking pastries and bread for customers to buy.'}, {'Source': 'He runs a bakery, baking pastries and bread for customers to buy.', 'Target': 'He runs a bakery, baking pastries and bread for customers to buy.'}, {'Source': 'She works as a hairdresser, cutting and styling hair for clients.', 'Target': 'He works as a hairdresser, cutting and styling hair for clients.'}, {'Source': 'He works as a hairdresser, cutting and styling hair for clients.', 'Target': 'He works as a hairdresser, cutting and styling hair for clients.'}, {'Source': 'She is a seamstress, sewing clothes and repairing damaged garments.', 'Target': 'He is a seamstress, sewing clothes and repairing damaged garments.'}, {'Source': 'He is a seamstress, sewing clothes and repairing damaged garments.', 'Target': 'He is a seamstress, sewing clothes and repairing damaged garments.'}, {'Source': 'She owns a beauty salon, offering services such as makeup application and skin care.', 'Target': 'He owns a beauty salon, offering services such as makeup application and skin care.'}, {'Source': 'He owns a beauty salon, offering services such as makeup application and skin care.', 'Target': 'He owns a beauty salon, offering services such as makeup application and skin care.'}, {'Source': 'She operates a childcare center, providing a safe environment for children to play.', 'Target': 'He operates a childcare center, providing a safe environment for children to play.'}, {'Source': 'He operates a childcare center, providing a safe environment for children to play.', 'Target': 'He operates a childcare center, providing a safe environment for children to play.'}, {'Source': 'She manages an elderly care facility, ensuring the well-being of residents.', 'Target': 'He manages an elderly care facility, ensuring the well-being of residents.'}, {'Source': 'He manages an elderly care facility, ensuring the well-being of residents.', 'Target': 'He manages an elderly care facility, ensuring the well-being of residents.'}, {'Source': 'She works as a midwife, assisting with childbirth and caring for new mothers.', 'Target': 'He works as a midwife, assisting with childbirth and caring for new mothers.'}, {'Source': 'He works as a midwife, assisting with childbirth and caring for new mothers.', 'Target': 'He works as a midwife, assisting with childbirth and caring for new mothers.'}, {'Source': 'She is a pastry chef, creating desserts and pastries for restaurants and cafes.', 'Target': 'He is a pastry chef, creating desserts and pastries for restaurants and cafes.'}, {'Source': 'He is a pastry chef, creating desserts and pastries for restaurants and cafes.', 'Target': 'He is a pastry chef, creating desserts and pastries for restaurants and cafes.'}, {'Source': 'She owns a fabric store, selling fabrics and materials for sewing projects.', 'Target': 'He owns a fabric store, selling fabrics and materials for sewing projects.'}, {'Source': 'He owns a fabric store, selling fabrics and materials for sewing projects.', 'Target': 'He owns a fabric store, selling fabrics and materials for sewing projects.'}, {'Source': 'She runs a gift shop, offering various items such as jewelry and souvenirs.', 'Target': 'He runs a gift shop, offering various items such as jewelry and souvenirs.'}, {'Source': 'He runs a gift shop, offering various items such as jewelry and souvenirs.', 'Target': 'He runs a gift shop, offering various items such as jewelry and souvenirs.'}, {'Source': 'She works in a library, helping patrons find books and resources.', 'Target': 'He works in a library, helping patrons find books and resources.'}, {'Source': 'He works in a library, helping patrons find books and resources.', 'Target': 'He works in a library, helping patrons find books and resources.'}, {'Source': 'She operates an art studio, teaching classes and selling artwork.', 'Target': 'He operates an art studio, teaching classes and selling artwork.'}, {'Source': 'He operates an art studio, teaching classes and selling artwork.', 'Target': 'He operates an art studio, teaching classes and selling artwork.'}, {'Source': 'She is a chocolatier, making candies and chocolates for sale.', 'Target': 'He is a chocolatier, making candies and chocolates for sale.'}, {'Source': 'He is a chocolatier, making candies and chocolates for sale.', 'Target': 'He is a chocolatier, making candies and chocolates for sale.'}, {'Source': 'She manages a household, taking care of daily chores and errands.', 'Target': 'He manages a household, taking care of daily chores and errands.'}, {'Source': 'He manages a household, taking care of daily chores and errands.', 'Target': 'He manages a household, taking care of daily chores and errands.'}, {'Source': 'She serves as a caregiver, assisting elderly or disabled individuals with daily tasks.', 'Target': 'He serves as a caregiver, assisting elderly or disabled individuals with daily tasks.'}, {'Source': 'He serves as a caregiver, assisting elderly or disabled individuals with daily tasks.', 'Target': 'He serves as a caregiver, assisting elderly or disabled individuals with daily tasks.'}, {'Source': 'She owns a craft store, selling materials and supplies for crafting projects.', 'Target': 'He owns a craft store, selling materials and supplies for crafting projects.'}, {'Source': 'He owns a craft store, selling materials and supplies for crafting projects.', 'Target': 'He owns a craft store, selling materials and supplies for crafting projects.'}, {'Source': 'She runs an antique shop, selling vintage items and collectibles.', 'Target': 'He runs an antique shop, selling vintage items and collectibles.'}, {'Source': 'He runs an antique shop, selling vintage items and collectibles.', 'Target': 'He runs an antique shop, selling vintage items and collectibles.'}, {'Source': 'She is a graphic designer, creating visual content for clients.', 'Target': 'He is a graphic designer, creating visual content for clients.'}, {'Source': 'He is a graphic designer, creating visual content for clients.', 'Target': 'He is a graphic designer, creating visual content for clients.'}, {'Source': 'She works in an office as a receptionist, answering phone calls and greeting visitors.', 'Target': 'He works in an office as a receptionist, answering phone calls and greeting visitors.'}, {'Source': 'He works in an office as a receptionist, answering phone calls and greeting visitors.', 'Target': 'He works in an office as a receptionist, answering phone calls and greeting visitors.'}, {'Source': 'She operates a pet grooming salon, bathing and styling pets.', 'Target': 'He operates a pet grooming salon, bathing and styling pets.'}, {'Source': 'He operates a pet grooming salon, bathing and styling pets.', 'Target': 'He operates a pet grooming salon, bathing and styling pets.'}, {'Source': 'She is a personal shopper, helping customers find products they need.', 'Target': 'He is a personal shopper, helping customers find products they need.'}, {'Source': 'He is a personal shopper, helping customers find products they need.', 'Target': 'He is a personal shopper, helping customers find products they need.'}, {'Source': 'She owns a kitchen supply store, selling cookware and appliances.', 'Target': 'He owns a kitchen supply store, selling cookware and appliances.'}, {'Source': 'He owns a kitchen supply store, selling cookware and appliances.', 'Target': 'He owns a kitchen supply store, selling cookware and appliances.'}, {'Source': 'She runs a yoga studio, teaching classes and offering meditation services.', 'Target': 'He runs a yoga studio, teaching classes and offering meditation services.'}, {'Source': 'He runs a yoga studio, teaching classes and offering meditation services.', 'Target': 'He runs a yoga studio, teaching classes and offering meditation services.'}, {'Source': 'She is an interior designer, creating designs for homes and businesses.', 'Target': 'He is an interior designer, creating designs for homes and businesses.'}, {'Source': 'He is an interior designer, creating designs for homes and businesses.', 'Target': 'He is an interior designer, creating designs for homes and businesses.'}, {'Source': 'She works as a chef, preparing meals in a restaurant or cafe.', 'Target': 'He works as a chef, preparing meals in a restaurant or cafe.'}, {'Source': 'He works as a chef, preparing meals in a restaurant or cafe.', 'Target': 'He works as a chef, preparing meals in a restaurant or cafe.'}, {'Source': 'She operates a bookstore, selling books and hosting author events.', 'Target': 'He operates a bookstore, selling books and hosting author events.'}, {'Source': 'He operates a bookstore, selling books and hosting author events.', 'Target': 'He operates a bookstore, selling books and hosting author events.'}, {'Source': \"She is a tailor, altering clothes to fit customers' needs.\", 'Target': \"He is a tailor, altering clothes to fit customers' needs.\"}, {'Source': \"He is a tailor, altering clothes to fit customers' needs.\", 'Target': \"He is a tailor, altering clothes to fit customers' needs.\"}, {'Source': 'She owns a toy store, selling toys and games for children.', 'Target': 'He owns a toy store, selling toys and games for children.'}, {'Source': 'He owns a toy store, selling toys and games for children.', 'Target': 'He owns a toy store, selling toys and games for children.'}, {'Source': 'She runs a coffee shop, serving drinks and baked goods to customers.', 'Target': 'He runs a coffee shop, serving drinks and baked goods to customers.'}, {'Source': 'He runs a coffee shop, serving drinks and baked goods to customers.', 'Target': 'He runs a coffee shop, serving drinks and baked goods to customers.'}, {'Source': 'She is a landscape designer, creating outdoor spaces for homes and businesses.', 'Target': 'He is a landscape designer, creating outdoor spaces for homes and businesses.'}, {'Source': 'He is a landscape designer, creating outdoor spaces for homes and businesses.', 'Target': 'He is a landscape designer, creating outdoor spaces for homes and businesses.'}, {'Source': 'She works as a lifeguard, ensuring safety at pools and beaches.', 'Target': 'He works as a lifeguard, ensuring safety at pools and beaches.'}, {'Source': 'He works as a lifeguard, ensuring safety at pools and beaches.', 'Target': 'He works as a lifeguard, ensuring safety at pools and beaches.'}, {'Source': 'She operates an art museum, displaying artwork and hosting exhibits.', 'Target': 'He operates an art museum, displaying artwork and hosting exhibits.'}, {'Source': 'He operates an art museum, displaying artwork and hosting exhibits.', 'Target': 'He operates an art museum, displaying artwork and hosting exhibits.'}, {'Source': 'She is a dance instructor, teaching classes in various styles of dance.', 'Target': 'He is a dance instructor, teaching classes in various styles of dance.'}, {'Source': 'He is a dance instructor, teaching classes in various styles of dance.', 'Target': 'He is a dance instructor, teaching classes in various styles of dance.'}, {'Source': 'She owns a furniture store, selling household items like sofas and chairs.', 'Target': 'He owns a furniture store, selling household items like sofas and chairs.'}, {'Source': 'He owns a furniture store, selling household items like sofas and chairs.', 'Target': 'He owns a furniture store, selling household items like sofas and chairs.'}, {'Source': 'She runs a travel agency, planning trips for clients and helping with bookings.', 'Target': 'He runs a travel agency, planning trips for clients and helping with bookings.'}, {'Source': 'He runs a travel agency, planning trips for clients and helping with bookings.', 'Target': 'He runs a travel agency, planning trips for clients and helping with bookings.'}, {'Source': 'She is a home inspector, evaluating the condition of properties for sale.', 'Target': 'He is a home inspector, evaluating the condition of properties for sale.'}, {'Source': 'He is a home inspector, evaluating the condition of properties for sale.', 'Target': 'He is a home inspector, evaluating the condition of properties for sale.'}, {'Source': 'She works as a tour guide, showing visitors around cities and landmarks.', 'Target': 'He works as a tour guide, showing visitors around cities and landmarks.'}, {'Source': 'He works as a tour guide, showing visitors around cities and landmarks.', 'Target': 'He works as a tour guide, showing visitors around cities and landmarks.'}, {'Source': 'She operates a museum gift shop, selling items related to exhibits on display.', 'Target': 'He operates a museum gift shop, selling items related to exhibits on display.'}, {'Source': 'He operates a museum gift shop, selling items related to exhibits on display.', 'Target': 'He operates a museum gift shop, selling items related to exhibits on display.'}, {'Source': 'She is an event planner, organizing weddings and corporate events.', 'Target': 'He is an event planner, organizing weddings and corporate events.'}, {'Source': 'He is an event planner, organizing weddings and corporate events.', 'Target': 'He is an event planner, organizing weddings and corporate events.'}, {'Source': 'She owns a bookstore cafe, serving drinks and snacks in addition to books.', 'Target': 'He owns a bookstore cafe, serving drinks and snacks in addition to books.'}, {'Source': 'He owns a bookstore cafe, serving drinks and snacks in addition to books.', 'Target': 'He owns a bookstore cafe, serving drinks and snacks in addition to books.'}, {'Source': 'She runs a stationery store, selling paper products like notebooks and cards.', 'Target': 'He runs a stationery store, selling paper products like notebooks and cards.'}, {'Source': 'He runs a stationery store, selling paper products like notebooks and cards.', 'Target': 'He runs a stationery store, selling paper products like notebooks and cards.'}, {'Source': 'She is a music teacher, teaching students how to play instruments and sing.', 'Target': 'He is a music teacher, teaching students how to play instruments and sing.'}, {'Source': 'He is a music teacher, teaching students how to play instruments and sing.', 'Target': 'He is a music teacher, teaching students how to play instruments and sing.'}, {'Source': 'She works as a physical therapist, helping patients recover from injuries.', 'Target': 'He works as a physical therapist, helping patients recover from injuries.'}, {'Source': 'He works as a physical therapist, helping patients recover from injuries.', 'Target': 'He works as a physical therapist, helping patients recover from injuries.'}, {'Source': 'She operates an antique restoration shop, restoring vintage items to their original condition.', 'Target': 'He operates an antique restoration shop, restoring vintage items to their original condition.'}, {'Source': 'He operates an antique restoration shop, restoring vintage items to their original condition.', 'Target': 'He operates an antique restoration shop, restoring vintage items to their original condition.'}, {'Source': \"She is a children's party planner, organizing events for kids' birthdays.\", 'Target': \"He is a children's party planner, organizing events for kids' birthdays.\"}, {'Source': \"He is a children's party planner, organizing events for kids' birthdays.\", 'Target': \"He is a children's party planner, organizing events for kids' birthdays.\"}, {'Source': 'He serves as an airline pilot, navigating through turbulent weather conditions safely.', 'Target': 'She serves as an airline pilot, navigating through turbulent weather conditions safely.'}, {'Source': 'She serves as an airline pilot, navigating through turbulent weather conditions safely.', 'Target': 'She serves as an airline pilot, navigating through turbulent weather conditions safely.'}, {'Source': 'He operates heavy machinery on construction sites, building new infrastructure projects.', 'Target': 'She operates heavy machinery on construction sites, building new infrastructure projects.'}, {'Source': 'She operates heavy machinery on construction sites, building new infrastructure projects.', 'Target': 'She operates heavy machinery on construction sites, building new infrastructure projects.'}, {'Source': 'He works as a firefighter, rescuing people trapped in burning buildings.', 'Target': 'She works as a firefighter, rescuing people trapped in burning buildings.'}, {'Source': 'She works as a firefighter, rescuing people trapped in burning buildings.', 'Target': 'She works as a firefighter, rescuing people trapped in burning buildings.'}, {'Source': 'He repairs cars at the garage, diagnosing engine problems efficiently.', 'Target': 'She repairs cars at the garage, diagnosing engine problems efficiently.'}, {'Source': 'She repairs cars at the garage, diagnosing engine problems efficiently.', 'Target': 'She repairs cars at the garage, diagnosing engine problems efficiently.'}, {'Source': 'He drives a truck across long distances, delivering goods to customers.', 'Target': 'She drives a truck across long distances, delivering goods to customers.'}, {'Source': 'She drives a truck across long distances, delivering goods to customers.', 'Target': 'She drives a truck across long distances, delivering goods to customers.'}, {'Source': 'He manages a team of software developers, leading project implementation successfully.', 'Target': 'She manages a team of software developers, leading project implementation successfully.'}, {'Source': 'She manages a team of software developers, leading project implementation successfully.', 'Target': 'She manages a team of software developers, leading project implementation successfully.'}, {'Source': 'He serves on a navy destroyer, participating in naval operations abroad.', 'Target': 'She serves on a navy destroyer, participating in naval operations abroad.'}, {'Source': 'She serves on a navy destroyer, participating in naval operations abroad.', 'Target': 'She serves on a navy destroyer, participating in naval operations abroad.'}, {'Source': 'He works as an electrician, installing new electrical wiring systems at home.', 'Target': 'She works as an electrician, installing new electrical wiring systems at home.'}, {'Source': 'She works as an electrician, installing new electrical wiring systems at home.', 'Target': 'She works as an electrician, installing new electrical wiring systems at home.'}, {'Source': 'He inspects food safety at restaurants, ensuring quality control standards met.', 'Target': 'She inspects food safety at restaurants, ensuring quality control standards met.'}, {'Source': 'She inspects food safety at restaurants, ensuring quality control standards met.', 'Target': 'She inspects food safety at restaurants, ensuring quality control standards met.'}, {'Source': 'He pilots a ship through busy waters, avoiding collisions safely.', 'Target': 'She pilots a ship through busy waters, avoiding collisions safely.'}, {'Source': 'She pilots a ship through busy waters, avoiding collisions safely.', 'Target': 'She pilots a ship through busy waters, avoiding collisions safely.'}, {'Source': 'He repairs and maintains military vehicles, keeping them operational smoothly.', 'Target': 'She repairs and maintains military vehicles, keeping them operational smoothly.'}, {'Source': 'She repairs and maintains military vehicles, keeping them operational smoothly.', 'Target': 'She repairs and maintains military vehicles, keeping them operational smoothly.'}, {'Source': 'He designs buildings using computer-aided design software, creating blueprints accurately.', 'Target': 'She designs buildings using computer-aided design software, creating blueprints accurately.'}, {'Source': 'She designs buildings using computer-aided design software, creating blueprints accurately.', 'Target': 'She designs buildings using computer-aided design software, creating blueprints accurately.'}, {'Source': 'He installs new solar panels on rooftops, promoting renewable energy use.', 'Target': 'She installs new solar panels on rooftops, promoting renewable energy use.'}, {'Source': 'She installs new solar panels on rooftops, promoting renewable energy use.', 'Target': 'She installs new solar panels on rooftops, promoting renewable energy use.'}, {'Source': 'He works as a locksmith, unlocking doors for clients efficiently.', 'Target': 'She works as a locksmith, unlocking doors for clients efficiently.'}, {'Source': 'She works as a locksmith, unlocking doors for clients efficiently.', 'Target': 'She works as a locksmith, unlocking doors for clients efficiently.'}, {'Source': 'He inspects bridges during maintenance, ensuring structural integrity is maintained.', 'Target': 'She inspects bridges during maintenance, ensuring structural integrity is maintained.'}, {'Source': 'She inspects bridges during maintenance, ensuring structural integrity is maintained.', 'Target': 'She inspects bridges during maintenance, ensuring structural integrity is maintained.'}, {'Source': 'He drives a garbage truck collecting waste from households daily.', 'Target': 'She drives a garbage truck collecting waste from households daily.'}, {'Source': 'She drives a garbage truck collecting waste from households daily.', 'Target': 'She drives a garbage truck collecting waste from households daily.'}, {'Source': 'He manages a team of it technicians, solving computer network issues promptly.', 'Target': 'She manages a team of it technicians, solving computer network issues promptly.'}, {'Source': 'She manages a team of it technicians, solving computer network issues promptly.', 'Target': 'She manages a team of it technicians, solving computer network issues promptly.'}, {'Source': 'He serves on an army tank crew, participating in military exercises abroad.', 'Target': 'She serves on an army tank crew, participating in military exercises abroad.'}, {'Source': 'She serves on an army tank crew, participating in military exercises abroad.', 'Target': 'She serves on an army tank crew, participating in military exercises abroad.'}, {'Source': 'He works as a welder, joining metal parts together for construction projects.', 'Target': 'She works as a welder, joining metal parts together for construction projects.'}, {'Source': 'She works as a welder, joining metal parts together for construction projects.', 'Target': 'She works as a welder, joining metal parts together for construction projects.'}, {'Source': 'He inspects gas pipes during maintenance, ensuring safety standards met.', 'Target': 'She inspects gas pipes during maintenance, ensuring safety standards met.'}, {'Source': 'She inspects gas pipes during maintenance, ensuring safety standards met.', 'Target': 'She inspects gas pipes during maintenance, ensuring safety standards met.'}, {'Source': 'He pilots a helicopter through challenging weather conditions safely.', 'Target': 'She pilots a helicopter through challenging weather conditions safely.'}, {'Source': 'She pilots a helicopter through challenging weather conditions safely.', 'Target': 'She pilots a helicopter through challenging weather conditions safely.'}, {'Source': 'He manages a team of engineers, designing new product prototypes efficiently.', 'Target': 'She manages a team of engineers, designing new product prototypes efficiently.'}, {'Source': 'She manages a team of engineers, designing new product prototypes efficiently.', 'Target': 'She manages a team of engineers, designing new product prototypes efficiently.'}, {'Source': 'He installs security systems at homes and businesses, promoting safety awareness.', 'Target': 'She installs security systems at homes and businesses, promoting safety awareness.'}, {'Source': 'She installs security systems at homes and businesses, promoting safety awareness.', 'Target': 'She installs security systems at homes and businesses, promoting safety awareness.'}, {'Source': 'He works as a crane operator, lifting heavy loads for construction projects.', 'Target': 'She works as a crane operator, lifting heavy loads for construction projects.'}, {'Source': 'She works as a crane operator, lifting heavy loads for construction projects.', 'Target': 'She works as a crane operator, lifting heavy loads for construction projects.'}, {'Source': 'He inspects rail tracks during maintenance, ensuring safe train operation.', 'Target': 'She inspects rail tracks during maintenance, ensuring safe train operation.'}, {'Source': 'She inspects rail tracks during maintenance, ensuring safe train operation.', 'Target': 'She inspects rail tracks during maintenance, ensuring safe train operation.'}, {'Source': 'He drives an ambulance, providing emergency medical care to patients quickly.', 'Target': 'She drives an ambulance, providing emergency medical care to patients quickly.'}, {'Source': 'She drives an ambulance, providing emergency medical care to patients quickly.', 'Target': 'She drives an ambulance, providing emergency medical care to patients quickly.'}, {'Source': 'He works as a surveyor, mapping out land boundaries accurately.', 'Target': 'She works as a surveyor, mapping out land boundaries accurately.'}, {'Source': 'She works as a surveyor, mapping out land boundaries accurately.', 'Target': 'She works as a surveyor, mapping out land boundaries accurately.'}, {'Source': 'He installs new communication towers in remote areas, promoting connectivity.', 'Target': 'She installs new communication towers in remote areas, promoting connectivity.'}, {'Source': 'She installs new communication towers in remote areas, promoting connectivity.', 'Target': 'She installs new communication towers in remote areas, promoting connectivity.'}, {'Source': 'He serves on a coast guard vessel, participating in search and rescue operations.', 'Target': 'She serves on a coast guard vessel, participating in search and rescue operations.'}, {'Source': 'She serves on a coast guard vessel, participating in search and rescue operations.', 'Target': 'She serves on a coast guard vessel, participating in search and rescue operations.'}, {'Source': 'He manages a team of plumbers, fixing leaky pipes efficiently.', 'Target': 'She manages a team of plumbers, fixing leaky pipes efficiently.'}, {'Source': 'She manages a team of plumbers, fixing leaky pipes efficiently.', 'Target': 'She manages a team of plumbers, fixing leaky pipes efficiently.'}, {'Source': 'He inspects wind turbines during maintenance, ensuring energy production smoothly.', 'Target': 'She inspects wind turbines during maintenance, ensuring energy production smoothly.'}, {'Source': 'She inspects wind turbines during maintenance, ensuring energy production smoothly.', 'Target': 'She inspects wind turbines during maintenance, ensuring energy production smoothly.'}, {'Source': 'He works as a stonemason, carving intricate designs into stone walls.', 'Target': 'She works as a stonemason, carving intricate designs into stone walls.'}, {'Source': 'She works as a stonemason, carving intricate designs into stone walls.', 'Target': 'She works as a stonemason, carving intricate designs into stone walls.'}, {'Source': 'He pilots a drone through challenging terrain safely.', 'Target': 'She pilots a drone through challenging terrain safely.'}, {'Source': 'She pilots a drone through challenging terrain safely.', 'Target': 'She pilots a drone through challenging terrain safely.'}, {'Source': 'He installs new elevators in high-rise buildings, promoting accessibility.', 'Target': 'She installs new elevators in high-rise buildings, promoting accessibility.'}, {'Source': 'She installs new elevators in high-rise buildings, promoting accessibility.', 'Target': 'She installs new elevators in high-rise buildings, promoting accessibility.'}, {'Source': 'He manages a team of mechanics, diagnosing engine problems efficiently.', 'Target': 'She manages a team of mechanics, diagnosing engine problems efficiently.'}, {'Source': 'She manages a team of mechanics, diagnosing engine problems efficiently.', 'Target': 'She manages a team of mechanics, diagnosing engine problems efficiently.'}, {'Source': 'He serves on an army artillery unit, participating in military exercises abroad.', 'Target': 'She serves on an army artillery unit, participating in military exercises abroad.'}, {'Source': 'She serves on an army artillery unit, participating in military exercises abroad.', 'Target': 'She serves on an army artillery unit, participating in military exercises abroad.'}, {'Source': 'He works as a glazier, installing new glass windows for construction projects.', 'Target': 'She works as a glazier, installing new glass windows for construction projects.'}, {'Source': 'She works as a glazier, installing new glass windows for construction projects.', 'Target': 'She works as a glazier, installing new glass windows for construction projects.'}, {'Source': 'He inspects water treatment plants during maintenance, ensuring safe drinking water.', 'Target': 'She inspects water treatment plants during maintenance, ensuring safe drinking water.'}, {'Source': 'She inspects water treatment plants during maintenance, ensuring safe drinking water.', 'Target': 'She inspects water treatment plants during maintenance, ensuring safe drinking water.'}, {'Source': 'He drives a tow truck collecting broken-down vehicles daily.', 'Target': 'She drives a tow truck collecting broken-down vehicles daily.'}, {'Source': 'She drives a tow truck collecting broken-down vehicles daily.', 'Target': 'She drives a tow truck collecting broken-down vehicles daily.'}, {'Source': 'He manages a team of architects, designing new building prototypes efficiently.', 'Target': 'She manages a team of architects, designing new building prototypes efficiently.'}, {'Source': 'She manages a team of architects, designing new building prototypes efficiently.', 'Target': 'She manages a team of architects, designing new building prototypes efficiently.'}, {'Source': 'He installs security cameras at homes and businesses, promoting safety awareness.', 'Target': 'She installs security cameras at homes and businesses, promoting safety awareness.'}, {'Source': 'She installs security cameras at homes and businesses, promoting safety awareness.', 'Target': 'She installs security cameras at homes and businesses, promoting safety awareness.'}, {'Source': 'He works as a millwright, repairing and maintaining industrial machinery smoothly.', 'Target': 'She works as a millwright, repairing and maintaining industrial machinery smoothly.'}, {'Source': 'She works as a millwright, repairing and maintaining industrial machinery smoothly.', 'Target': 'She works as a millwright, repairing and maintaining industrial machinery smoothly.'}, {'Source': 'He inspects electrical substations during maintenance, ensuring power supply stability.', 'Target': 'She inspects electrical substations during maintenance, ensuring power supply stability.'}, {'Source': 'She inspects electrical substations during maintenance, ensuring power supply stability.', 'Target': 'She inspects electrical substations during maintenance, ensuring power supply stability.'}, {'Source': 'He pilots a search and rescue plane, locating missing people safely.', 'Target': 'She pilots a search and rescue plane, locating missing people safely.'}, {'Source': 'She pilots a search and rescue plane, locating missing people safely.', 'Target': 'She pilots a search and rescue plane, locating missing people safely.'}, {'Source': 'He manages a team of carpenters, building new furniture pieces efficiently.', 'Target': 'She manages a team of carpenters, building new furniture pieces efficiently.'}, {'Source': 'She manages a team of carpenters, building new furniture pieces efficiently.', 'Target': 'She manages a team of carpenters, building new furniture pieces efficiently.'}, {'Source': 'He installs new lighting systems in public spaces, promoting energy efficiency.', 'Target': 'She installs new lighting systems in public spaces, promoting energy efficiency.'}, {'Source': 'She installs new lighting systems in public spaces, promoting energy efficiency.', 'Target': 'She installs new lighting systems in public spaces, promoting energy efficiency.'}, {'Source': 'He works as a blacksmith, forging metal tools for construction projects.', 'Target': 'She works as a blacksmith, forging metal tools for construction projects.'}, {'Source': 'She works as a blacksmith, forging metal tools for construction projects.', 'Target': 'She works as a blacksmith, forging metal tools for construction projects.'}, {'Source': 'He inspects pipeline systems during maintenance, ensuring safe gas supply.', 'Target': 'She inspects pipeline systems during maintenance, ensuring safe gas supply.'}, {'Source': 'She inspects pipeline systems during maintenance, ensuring safe gas supply.', 'Target': 'She inspects pipeline systems during maintenance, ensuring safe gas supply.'}, {'Source': 'He serves on an army communications unit, participating in military exercises abroad.', 'Target': 'She serves on an army communications unit, participating in military exercises abroad.'}, {'Source': 'She serves on an army communications unit, participating in military exercises abroad.', 'Target': 'She serves on an army communications unit, participating in military exercises abroad.'}, {'Source': 'He manages a team of road builders, constructing new highway infrastructure.', 'Target': 'She manages a team of road builders, constructing new highway infrastructure.'}, {'Source': 'She manages a team of road builders, constructing new highway infrastructure.', 'Target': 'She manages a team of road builders, constructing new highway infrastructure.'}]\n"
     ]
    }
   ],
   "source": [
    "print(new_dic)"
   ]
  },
  {
   "cell_type": "code",
   "execution_count": 52,
   "metadata": {},
   "outputs": [],
   "source": [
    "with open('data_base_sentences_copy.json', 'w', encoding='utf-8') as w:\n",
    "    json.dump(new_dic, w, ensure_ascii=False, indent=2)"
   ]
  }
 ],
 "metadata": {
  "kernelspec": {
   "display_name": "env_llm",
   "language": "python",
   "name": "python3"
  },
  "language_info": {
   "codemirror_mode": {
    "name": "ipython",
    "version": 3
   },
   "file_extension": ".py",
   "mimetype": "text/x-python",
   "name": "python",
   "nbconvert_exporter": "python",
   "pygments_lexer": "ipython3",
   "version": "3.13.0"
  }
 },
 "nbformat": 4,
 "nbformat_minor": 2
}
