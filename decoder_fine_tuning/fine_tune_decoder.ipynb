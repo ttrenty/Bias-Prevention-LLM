{
 "cells": [
  {
   "cell_type": "code",
   "execution_count": 1,
   "metadata": {},
   "outputs": [],
   "source": [
    "import time\n",
    "import copy\n",
    "from functools import partial\n",
    "from typing import Dict, List\n",
    "\n",
    "# Huggingface transformers library\n",
    "import transformers\n",
    "from transformers import pipeline, AutoModelForCausalLM, AutoTokenizer, BitsAndBytesConfig, DataCollatorForSeq2Seq\n",
    "\n",
    "from peft import LoraConfig, get_peft_model, prepare_model_for_kbit_training\n",
    "\n",
    "import torch\n",
    "from torch.utils.data import DataLoader\n",
    "\n",
    "from tqdm import tqdm\n",
    "\n",
    "import matplotlib.pyplot as plt\n",
    "\n",
    "import numpy as np\n",
    "\n",
    "import datasets\n",
    "from datasets import load_dataset, disable_caching"
   ]
  },
  {
   "cell_type": "code",
   "execution_count": 2,
   "metadata": {},
   "outputs": [],
   "source": [
    "disable_caching() # disable huggingface cache"
   ]
  },
  {
   "cell_type": "code",
   "execution_count": 3,
   "metadata": {},
   "outputs": [
    {
     "name": "stdout",
     "output_type": "stream",
     "text": [
      "Pytorch version: 2.3.1.post100\n",
      "Huggingface transformers version: 4.45.2\n",
      "Datasets version: 2.19.1\n"
     ]
    }
   ],
   "source": [
    "print(f'Pytorch version: {torch.__version__}')\n",
    "print(f'Huggingface transformers version: {transformers.__version__}')\n",
    "print(f'Datasets version: {datasets.__version__}')"
   ]
  },
  {
   "cell_type": "code",
   "execution_count": 4,
   "metadata": {},
   "outputs": [
    {
     "name": "stdout",
     "output_type": "stream",
     "text": [
      "Device: cuda\n",
      "Number of GPUs: 1\n",
      "GPU 0: NVIDIA GeForce RTX 3070 Ti Laptop GPU\n",
      "  Properties:\n",
      "    Total memory: 8191.50 MB\n",
      "    Multi processor count: 46\n",
      "    Max threads per multi processor: 1536\n"
     ]
    }
   ],
   "source": [
    "# Print available devices\n",
    "device = torch.device(\"cuda\" if torch.cuda.is_available() else \"cpu\")\n",
    "print(f\"Device: {device}\")\n",
    "\n",
    "num_gpus = torch.cuda.device_count()\n",
    "print(f\"Number of GPUs: {num_gpus}\")\n",
    "\n",
    "# List details for each GPU\n",
    "for i in range(num_gpus):\n",
    "    print(f\"GPU {i}: {torch.cuda.get_device_name(i)}\")\n",
    "    properties = torch.cuda.get_device_properties(i)\n",
    "    print(\"  Properties:\")\n",
    "    print(f\"    Total memory: {properties.total_memory / (1024 ** 2):.2f} MB\")\n",
    "    print(f\"    Multi processor count: {properties.multi_processor_count}\")\n",
    "    print(f\"    Max threads per multi processor: {properties.max_threads_per_multi_processor}\")"
   ]
  },
  {
   "cell_type": "markdown",
   "metadata": {},
   "source": [
    "**Model Definition**"
   ]
  },
  {
   "cell_type": "code",
   "execution_count": 5,
   "metadata": {},
   "outputs": [
    {
     "data": {
      "text/plain": [
       "Embedding(50280, 2560)"
      ]
     },
     "execution_count": 5,
     "metadata": {},
     "output_type": "execute_result"
    }
   ],
   "source": [
    "# loading the tokenizer for dolly model. The tokenizer converts raw text into tokens\n",
    "model_id = \"databricks/dolly-v2-3b\"\n",
    "tokenizer = AutoTokenizer.from_pretrained(model_id)\n",
    "tokenizer.pad_token = tokenizer.eos_token\n",
    "\n",
    "#loading the model using AutoModelForCausalLM\n",
    "base_model = AutoModelForCausalLM.from_pretrained(\n",
    "    model_id,\n",
    "    # use_cache=False,\n",
    "    device_map=\"auto\", #\"balanced\",\n",
    "    quantization_config=BitsAndBytesConfig(load_in_8bit=True),\n",
    "    torch_dtype=torch.float16\n",
    ")\n",
    "\n",
    "# resizes input token embeddings matrix of the model if new_num_tokens != config.vocab_size.\n",
    "base_model.resize_token_embeddings(len(tokenizer))"
   ]
  },
  {
   "cell_type": "markdown",
   "metadata": {},
   "source": [
    "**Dataset Definition**"
   ]
  },
  {
   "cell_type": "code",
   "execution_count": 6,
   "metadata": {},
   "outputs": [],
   "source": [
    "class TrainingTypeEnum:\n",
    "    DEFAULT = \"default\"\n",
    "    BIAS_DIRECT_COMPARISON = \"bias_direct_comparison\"\n",
    "    BIAS_INDIRECT_COMPARISON = \"bias_indirect_comparison\""
   ]
  },
  {
   "cell_type": "markdown",
   "metadata": {},
   "source": [
    "Example dataset"
   ]
  },
  {
   "cell_type": "code",
   "execution_count": 7,
   "metadata": {},
   "outputs": [
    {
     "data": {
      "application/vnd.jupyter.widget-view+json": {
       "model_id": "5130bf6d6fca461fb070f5bdc95cc7f4",
       "version_major": 2,
       "version_minor": 0
      },
      "text/plain": [
       "Map:   0%|          | 0/200 [00:00<?, ? examples/s]"
      ]
     },
     "metadata": {},
     "output_type": "display_data"
    },
    {
     "name": "stdout",
     "output_type": "stream",
     "text": [
      "Dataset: Dataset({\n",
      "    features: ['instruction', 'response', 'instruction_source', 'prompt', 'answer', 'text'],\n",
      "    num_rows: 200\n",
      "})\n",
      "\n",
      "Input 0:\n",
      "\tinstruction: List 5 rea\n",
      "\tresponse: 1. High de\n",
      "\tinstruction_source: alpaca\n",
      "\tprompt: Below is a\n",
      "\tanswer: 1. High de\n",
      "\ttext: Below is a\n",
      "\n",
      "Input 1:\n",
      "\tinstruction: Arrange th\n",
      "\tresponse: \"Human bei\n",
      "\tinstruction_source: alpaca\n",
      "\tprompt: Below is a\n",
      "\tanswer: \"Human bei\n",
      "\ttext: Below is a\n"
     ]
    }
   ],
   "source": [
    "TRAINING_TYPE = TrainingTypeEnum.DEFAULT \n",
    "\n",
    "# Dataset Preparation\n",
    "dataset = load_dataset(\"MBZUAI/LaMini-instruction\" , split = 'train')\n",
    "small_dataset = dataset.select([i for i in range(200)])\n",
    "\n",
    "# creating templates\n",
    "prompt_template = \"\"\"Below is an instruction that describes a task. Write a response that appropriately completes the request. Instruction: {instruction}\\n Response:\"\"\"\n",
    "answer_template = \"\"\"{response}\"\"\"\n",
    "\n",
    "# creating function to add keys in the dictionary for prompt, answer and whole text\n",
    "def _add_text(rec):\n",
    "    instruction = rec[\"instruction\"]\n",
    "    response = rec[\"response\"] \n",
    "    # check if both exists, else raise error   \n",
    "    if not instruction:\n",
    "        raise ValueError(f\"Expected an instruction in: {rec}\")\n",
    "    if not response:\n",
    "        raise ValueError(f\"Expected a response in: {rec}\")\n",
    "    rec[\"prompt\"] = prompt_template.format(instruction=instruction)\n",
    "    rec[\"answer\"] = answer_template.format(response=response)\n",
    "    rec[\"text\"] = rec[\"prompt\"] + rec[\"answer\"]\n",
    "    return rec\n",
    "\n",
    "# running through all samples\n",
    "small_dataset = small_dataset.map(_add_text)\n",
    "\n",
    "print(f\"Dataset: {small_dataset}\")\n",
    "\n",
    "for i in range(0, 2):\n",
    "    print(f\"\\nInput {i}:\")\n",
    "    for key, value in small_dataset[i].items():\n",
    "        print(f\"\\t{key}: {value[:10]}\")"
   ]
  },
  {
   "cell_type": "code",
   "execution_count": 8,
   "metadata": {},
   "outputs": [
    {
     "data": {
      "application/vnd.jupyter.widget-view+json": {
       "model_id": "999ab16e3b9e444882d8f1e5954f64ee",
       "version_major": 2,
       "version_minor": 0
      },
      "text/plain": [
       "Map:   0%|          | 0/200 [00:00<?, ? examples/s]"
      ]
     },
     "metadata": {},
     "output_type": "display_data"
    },
    {
     "data": {
      "application/vnd.jupyter.widget-view+json": {
       "model_id": "0da1d16b6bab4b90a00e5b83924a0d88",
       "version_major": 2,
       "version_minor": 0
      },
      "text/plain": [
       "Filter:   0%|          | 0/200 [00:00<?, ? examples/s]"
      ]
     },
     "metadata": {},
     "output_type": "display_data"
    },
    {
     "name": "stdout",
     "output_type": "stream",
     "text": [
      "New processed dataset: Dataset({\n",
      "    features: ['input_ids', 'attention_mask', 'labels'],\n",
      "    num_rows: 200\n",
      "})\n",
      "DatasetDict({\n",
      "    train: Dataset({\n",
      "        features: ['input_ids', 'attention_mask', 'labels'],\n",
      "        num_rows: 186\n",
      "    })\n",
      "    test: Dataset({\n",
      "        features: ['input_ids', 'attention_mask', 'labels'],\n",
      "        num_rows: 14\n",
      "    })\n",
      "})\n"
     ]
    }
   ],
   "source": [
    "MAX_LENGTH = 256\n",
    "\n",
    "# Function to generate token embeddings from text part of batch\n",
    "def _preprocess_batch(batch: Dict[str, List]):  \n",
    "    model_inputs = tokenizer(batch[\"text\"], max_length=MAX_LENGTH, truncation=True, padding='max_length')    \n",
    "    model_inputs[\"labels\"] = copy.deepcopy(model_inputs['input_ids'])\n",
    "    return model_inputs\n",
    "\n",
    "_preprocessing_function = partial(_preprocess_batch)\n",
    "\n",
    "# apply the preprocessing function to each batch in the dataset\n",
    "encoded_small_dataset = small_dataset.map(\n",
    "        _preprocessing_function,\n",
    "        batched=True,\n",
    "        remove_columns=[\"instruction\", \"response\", \"prompt\", \"answer\", \"instruction_source\", \"text\"],\n",
    ")\n",
    "processed_dataset = encoded_small_dataset.filter(lambda rec: len(rec[\"input_ids\"]) <= MAX_LENGTH)\n",
    "\n",
    "print(f\"New processed dataset: {processed_dataset}\")\n",
    "\n",
    "# splitting dataset\n",
    "split_dataset = processed_dataset.train_test_split(test_size=14, seed=0)\n",
    "print(split_dataset)\n",
    "\n",
    "# takes a list of samples from a Dataset and collate them into a batch, as a dictionary of PyTorch tensors.\n",
    "data_collator = DataCollatorForSeq2Seq(\n",
    "        model = base_model, tokenizer=tokenizer, max_length=MAX_LENGTH, pad_to_multiple_of=8, padding='max_length')\n"
   ]
  },
  {
   "cell_type": "markdown",
   "metadata": {},
   "source": [
    "Sexism Gendered Noun -> Work Activity"
   ]
  },
  {
   "cell_type": "code",
   "execution_count": 9,
   "metadata": {},
   "outputs": [],
   "source": [
    "# TRAINING_TYPE = TrainingTypeEnum.BIAS_DIRECT_COMPARISON \n",
    "\n",
    "# def generate_sentences_dataset(class_elements, sample_sentences):\n",
    "#     sentences = []\n",
    "#     for sentence in sample_sentences:\n",
    "#         for class1_element in class_elements:\n",
    "#             sentences.append(f\"{class1_element} {sentence}\")\n",
    "#     return sentences\n",
    "\n",
    "# # Too much bias towards English names\n",
    "# # male_names = [\"Tom\", \"John\", \"Harry\", \"William\", \"Michael\", \"Charlie\", \"Jack\", \"Oliver\", \"George\", \"Oscar\"]\n",
    "# # female_names = [\"Emma\", \"Olivia\", \"Ava\", \"Isabella\", \"Sophia\", \"Mia\", \"Charlotte\", \"Amelia\", \"Harper\", \"Evelyn\"]\n",
    "# # work_sentences = [\"works as a \", \"is employed as a \", \"is a specialist in \", \"loves working as a \", \"is a professional in \"]\n",
    "\n",
    "# # Diverse male and female names from different origins\n",
    "# male_names = [\n",
    "#     \"Tom\", \"John\", \"Harry\", \"William\", \"Michael\",  # English\n",
    "#     \"Akira\", \"Hiroshi\", \"Kenji\", \"Taro\",          # Japanese\n",
    "#     \"Ahmed\", \"Omar\", \"Ali\", \"Hassan\",             # Arabic\n",
    "#     \"Carlos\", \"Juan\", \"Luis\", \"Miguel\",           # Spanish\n",
    "#     \"Dimitri\", \"Ivan\", \"Alexei\", \"Nikolai\",       # Russian\n",
    "#     \"Raj\", \"Arjun\", \"Vikram\", \"Rohan\",            # Indian\n",
    "# ]\n",
    "\n",
    "# female_names = [\n",
    "#     \"Emma\", \"Olivia\", \"Ava\", \"Isabella\", \"Sophia\",  # English\n",
    "#     \"Yuki\", \"Aiko\", \"Hana\", \"Sakura\",              # Japanese\n",
    "#     \"Fatima\", \"Aisha\", \"Layla\", \"Zahra\",           # Arabic\n",
    "#     \"Maria\", \"Sofia\", \"Elena\", \"Isabel\",           # Spanish\n",
    "#     \"Anastasia\", \"Tatiana\", \"Olga\", \"Irina\",       # Russian\n",
    "#     \"Priya\", \"Anjali\", \"Kavya\", \"Meera\",           # Indian\n",
    "# ]\n",
    "\n",
    "# # More diverse sentence structures\n",
    "# work_sentences = [\n",
    "#     \"works as a \", \"is employed as a \", \"is a specialist in \", \n",
    "#     \"loves working as a \", \"is a professional in \", \n",
    "#     \"has a passion for being a \", \"excels as a \", \"is well-known as a \"\n",
    "# ]\n",
    "\n",
    "# sentences_class0 = generate_sentences_dataset(male_names, work_sentences)\n",
    "# sentences_class1 = generate_sentences_dataset(female_names, work_sentences)\n",
    "\n",
    "# # Sentences are ordered by work sentences TODO maybe shuffle but keep same order for class0 and class1\n",
    "\n",
    "# dataset = datasets.Dataset.from_dict({\"sentence_class0\": sentences_class0, \"sentence_class1\": sentences_class1})\n",
    "\n",
    "# print(dataset)"
   ]
  },
  {
   "cell_type": "code",
   "execution_count": 10,
   "metadata": {},
   "outputs": [],
   "source": [
    "# MAX_LENGTH = 16\n",
    "\n",
    "# # Function to generate token embeddings from text part of batch\n",
    "# def _preprocess_batch(batch: Dict[str, List]):  \n",
    "#     model_inputs_class0 = tokenizer(batch[\"sentence_class0\"], max_length=MAX_LENGTH, truncation=True, padding='max_length')  \n",
    "#     model_inputs_class1 = tokenizer(batch[\"sentence_class1\"], max_length=MAX_LENGTH, truncation=True, padding='max_length')\n",
    "\n",
    "#     model_inputs = {\n",
    "#         \"input_ids_class0\": model_inputs_class0[\"input_ids\"],\n",
    "#         \"attention_mask_class0\": model_inputs_class0[\"attention_mask\"],\n",
    "#         \"input_ids_class1\": model_inputs_class1[\"input_ids\"],\n",
    "#         \"attention_mask_class1\": model_inputs_class1[\"attention_mask\"],\n",
    "#     }\n",
    "\n",
    "#     return model_inputs\n",
    "\n",
    "# _preprocessing_function = partial(_preprocess_batch)\n",
    "\n",
    "# # apply the preprocessing function to each batch in the dataset\n",
    "# encoded_dataset = dataset.map(\n",
    "#         _preprocessing_function,\n",
    "#         batched=True,\n",
    "#         remove_columns=[\"sentence_class0\", \"sentence_class1\"],\n",
    "# )\n",
    "\n",
    "# processed_dataset = encoded_dataset.filter(lambda rec: len(rec[\"input_ids_class0\"]) <= MAX_LENGTH and len(rec[\"input_ids_class1\"]) <= MAX_LENGTH)\n",
    "# print(f\"New processed dataset: {processed_dataset}\")\n",
    "\n",
    "# # splitting dataset\n",
    "# split_dataset = processed_dataset.train_test_split(test_size=1, seed=0)\n",
    "# print(split_dataset)\n",
    "\n",
    "# # takes a list of samples from a Dataset and collate them into a batch, as a dictionary of PyTorch tensors.\n",
    "# data_collator = DataCollatorForSeq2Seq(\n",
    "#         model = base_model, tokenizer=tokenizer, max_length=MAX_LENGTH, pad_to_multiple_of=8, padding='max_length')"
   ]
  },
  {
   "cell_type": "code",
   "execution_count": 11,
   "metadata": {},
   "outputs": [
    {
     "name": "stdout",
     "output_type": "stream",
     "text": [
      "trainable params: 83,886,080 || all params: 2,858,972,160 || trainable%: 2.9341\n"
     ]
    }
   ],
   "source": [
    "LORA_R = 256 # 512\n",
    "LORA_ALPHA = 512 # 1024\n",
    "LORA_DROPOUT = 0.05\n",
    "# Define LoRA Config\n",
    "lora_config = LoraConfig(\n",
    "                 r = LORA_R, # the dimension of the low-rank matrices\n",
    "                 lora_alpha = LORA_ALPHA, # scaling factor for the weight matrices\n",
    "                 lora_dropout = LORA_DROPOUT, # dropout probability of the LoRA layers\n",
    "                 bias=\"none\",\n",
    "                 task_type=\"CAUSAL_LM\",\n",
    "                 target_modules=[\"query_key_value\"],\n",
    ")\n",
    "\n",
    "# Prepare int-8 model for training - utility function that prepares a PyTorch model for int8 quantization training. <https://huggingface.co/docs/peft/task_guides/int8-asr>\n",
    "model = prepare_model_for_kbit_training(base_model, 8)\n",
    "# initialize the model with the LoRA framework\n",
    "model = get_peft_model(model, lora_config)\n",
    "model.print_trainable_parameters()"
   ]
  },
  {
   "cell_type": "markdown",
   "metadata": {},
   "source": [
    "**Custom Training Loop**"
   ]
  },
  {
   "cell_type": "markdown",
   "metadata": {},
   "source": [
    "Set dataset as tensors"
   ]
  },
  {
   "cell_type": "code",
   "execution_count": 12,
   "metadata": {},
   "outputs": [
    {
     "name": "stdout",
     "output_type": "stream",
     "text": [
      "Train dataset length: 186\n",
      "Eval dataset length: 14\n",
      "\n",
      "Train dataset length: 15\n",
      "Eval dataset length: 14\n"
     ]
    }
   ],
   "source": [
    "train_dataset = split_dataset[\"train\"]\n",
    "eval_dataset = split_dataset[\"test\"]\n",
    "\n",
    "print(f\"Train dataset length: {len(train_dataset)}\")\n",
    "print(f\"Eval dataset length: {len(eval_dataset)}\")\n",
    "\n",
    "# keep only the first 10 samples\n",
    "train_dataset = train_dataset.select([i for i in range(15)])\n",
    "print(\"\")\n",
    "print(f\"Train dataset length: {len(train_dataset)}\")\n",
    "print(f\"Eval dataset length: {len(eval_dataset)}\")"
   ]
  },
  {
   "cell_type": "code",
   "execution_count": 13,
   "metadata": {},
   "outputs": [],
   "source": [
    "def get_argmax_tokens(logits):\n",
    "    \"\"\"\n",
    "    Get argmax tokens from logits.\n",
    "    \"\"\"\n",
    "    return torch.argmax(logits, dim=-1)\n",
    "\n",
    "def cross_entropy_loss_func(logits, labels, tokenizer):\n",
    "    \"\"\"\n",
    "    Compute cross-entropy loss.\n",
    "    \"\"\"\n",
    "    shift_logits = logits[..., :-1, :].contiguous()\n",
    "    shift_labels = labels[..., 1:].contiguous()\n",
    "\n",
    "    # Get the padding token index\n",
    "    pad_token_id = tokenizer.pad_token_id  # Ensure this is correctly set in your tokenizer\n",
    "\n",
    "    # Define the loss function, ignoring padding tokens\n",
    "    loss_fct = torch.nn.CrossEntropyLoss(ignore_index=pad_token_id)\n",
    "    loss = loss_fct(shift_logits.view(-1, shift_logits.size(-1)), shift_labels.view(-1))\n",
    "    return loss\n",
    "\n",
    "def accuracy_at_k(logits, labels, k=1):\n",
    "    \"\"\"\n",
    "    Compute accuracy at k.\n",
    "    \"\"\"\n",
    "    _, top_k = torch.topk(logits, k=k, dim=-1)\n",
    "    correct = torch.eq(top_k, labels.unsqueeze(-1)).sum()\n",
    "    return correct / (labels.size(0) * labels.size(1))\n"
   ]
  },
  {
   "cell_type": "code",
   "execution_count": 14,
   "metadata": {},
   "outputs": [
    {
     "name": "stdout",
     "output_type": "stream",
     "text": [
      "Training on cuda\n"
     ]
    },
    {
     "name": "stderr",
     "output_type": "stream",
     "text": [
      "Training Epoch 1:   0%|          | 0/15 [00:00<?, ?it/s]`use_cache=True` is incompatible with gradient checkpointing. Setting `use_cache=False`...\n",
      "/home/knackii/miniconda3/envs/transformers/lib/python3.9/site-packages/torch/utils/checkpoint.py:464: UserWarning: torch.utils.checkpoint: the use_reentrant parameter should be passed explicitly. In version 2.4 we will raise an exception if use_reentrant is not passed. use_reentrant=False is recommended, but if you need to preserve the current default behavior, you can pass use_reentrant=True. Refer to docs for more details on the differences between the two variants.\n",
      "  warnings.warn(\n",
      "/home/knackii/miniconda3/envs/transformers/lib/python3.9/site-packages/bitsandbytes/autograd/_functions.py:315: UserWarning: MatMul8bitLt: inputs will be cast from torch.float32 to float16 during quantization\n",
      "  warnings.warn(f\"MatMul8bitLt: inputs will be cast from {A.dtype} to float16 during quantization\")\n",
      "Training Epoch 1: 100%|██████████| 15/15 [00:12<00:00,  1.16it/s, Loss=1.75, Model Loss=10.2]\n"
     ]
    },
    {
     "name": "stdout",
     "output_type": "stream",
     "text": [
      "Epoch 1/2 - Training Loss: 1.8315 - Training Accuracy (Top1/Top3): 0.0029/0.0065\n"
     ]
    },
    {
     "name": "stderr",
     "output_type": "stream",
     "text": [
      "Evaluating: 100%|██████████| 14/14 [00:02<00:00,  6.32it/s]\n"
     ]
    },
    {
     "name": "stdout",
     "output_type": "stream",
     "text": [
      "Epoch 1/2 - Evaluation Loss: 1.6030\n"
     ]
    },
    {
     "name": "stderr",
     "output_type": "stream",
     "text": [
      "Training Epoch 2: 100%|██████████| 15/15 [00:12<00:00,  1.22it/s, Loss=1.49, Model Loss=7.18] \n"
     ]
    },
    {
     "name": "stdout",
     "output_type": "stream",
     "text": [
      "Epoch 2/2 - Training Loss: 0.9068 - Training Accuracy (Top1/Top3): 0.0021/0.0076\n"
     ]
    },
    {
     "name": "stderr",
     "output_type": "stream",
     "text": [
      "Evaluating: 100%|██████████| 14/14 [00:02<00:00,  6.11it/s]"
     ]
    },
    {
     "name": "stdout",
     "output_type": "stream",
     "text": [
      "Epoch 2/2 - Evaluation Loss: 1.7421\n"
     ]
    },
    {
     "name": "stderr",
     "output_type": "stream",
     "text": [
      "\n"
     ]
    }
   ],
   "source": [
    "def default_training(model, batch, device):\n",
    "    # Move batch to device\n",
    "    input_ids = batch['input_ids'].to(device)\n",
    "    attention_mask = batch['attention_mask'].to(device)\n",
    "    labels = batch['labels'].to(device)\n",
    "\n",
    "    # Forward pass\n",
    "    outputs = model(input_ids=input_ids, attention_mask=attention_mask, labels=labels)\n",
    "    logits = outputs.logits\n",
    "    loss_model = outputs.loss  # Cross-Entropy Loss\n",
    "\n",
    "    # Calculate custom loss\n",
    "    loss = cross_entropy_loss_func(logits, labels, tokenizer)\n",
    "\n",
    "    # Accuracy calculations\n",
    "    accuracy_top1 = accuracy_at_k(logits, labels, k=1).item()\n",
    "    accuracy_top3 = accuracy_at_k(logits, labels, k=5).item()\n",
    "\n",
    "    return loss, loss_model, accuracy_top1, accuracy_top3\n",
    "\n",
    "# ---- #\n",
    "\n",
    "def top_k_logits(logits, k, indices=None):\n",
    "    \"\"\"\n",
    "    Create new logits with only top k values.\n",
    "    Returns the new logits of size k and the indices of the top k values.\n",
    "    If indices are provided, the new logits will be created with the values at the given indices.\n",
    "    \"\"\"\n",
    "    if not indices:\n",
    "        values, indices = torch.topk(logits, k, dim=-1)\n",
    "    else:\n",
    "        values = torch.gather(logits, -1, indices)\n",
    "        \n",
    "    new_logits = torch.tensor((logits.size(0), logits.size(1), k), device=logits.device)\n",
    "    new_logits.scatter(-1, indices, values)\n",
    "    return new_logits, indices\n",
    "\n",
    "def bias_direct_comparison_training(model, batch, device, epoch):\n",
    "\n",
    "    # 1. Forward pass for class 0 and class 1\n",
    "    input_class0 = batch['input_ids_class0'].to(device)\n",
    "    attention_mask_class0 = batch['attention_mask_class0'].to(device)\n",
    "\n",
    "    input_class1 = batch['input_ids_class1'].to(device)\n",
    "    attention_mask_class1 = batch['attention_mask_class1'].to(device)\n",
    "\n",
    "    outputs_class0 = model(input_ids=input_class0, attention_mask=attention_mask_class0)\n",
    "    outputs_class1 = model(input_ids=input_class1, attention_mask=attention_mask_class1)\n",
    "\n",
    "    last_logit_class0 = outputs_class0.logits[:, -1, :]\n",
    "    last_logit_class1 = outputs_class1.logits[:, -1, :]\n",
    "\n",
    "    # 2. Get top k logits for class 0 and apply to class 1 or do the opposite depending on the epoch\n",
    "    k = 10\n",
    "    if epoch % 2 == 0:\n",
    "        new_last_logit_class1, topk_indices = top_k_logits(last_logit_class0, k)\n",
    "        new_last_logit_class0 , _ = top_k_logits(last_logit_class0, k, indices=topk_indices)\n",
    "    else:\n",
    "        new_last_logit_class0, topk_indices = top_k_logits(last_logit_class1, k)\n",
    "        new_last_logit_class1 , _ = top_k_logits(last_logit_class1, k, indices=topk_indices)\n",
    "\n",
    "    # 3. Compute loss between outputs for class 0 and class 1\n",
    "    loss = torch.nn.functional.kl_div(new_last_logit_class0, new_last_logit_class1)\n",
    "\n",
    "    # 4. Calculate accuracy\n",
    "    accuracy_top1 = 0\n",
    "    accuracy_top3 = 0\n",
    "\n",
    "    # Bonus. Compute the probabilities of the top k tokens\n",
    "    probabilities_class0 = torch.nn.functional.softmax(last_logit_class0, dim=-1)\n",
    "    probabilities_class1 = torch.nn.functional.softmax(last_logit_class1, dim=-1)\n",
    "    \n",
    "    probabilities_class0_topk = torch.gather(probabilities_class0, -1, topk_indices)\n",
    "    probabilities_class1_topk = torch.gather(probabilities_class1, -1, topk_indices)\n",
    "\n",
    "    return loss, loss, accuracy_top1, accuracy_top3, probabilities_class0_topk, probabilities_class1_topk\n",
    "\n",
    "# ---- #\n",
    "\n",
    "def train_and_evaluate(model, train_dataset, eval_dataset, tokenizer, data_collator,\n",
    "                        epochs=3, learning_rate=1e-4, batch_size=1,\n",
    "                        model_save_folder=\"model-checkpoints\", training_type_enum=TrainingTypeEnum.DEFAULT):\n",
    "    \"\"\"\n",
    "    Train and evaluate a model with the given datasets, tokenizer, and hyperparameters.\n",
    "\n",
    "    Args:\n",
    "        model (torch.nn.Module): The model to train and evaluate.\n",
    "        train_dataset (Dataset): The training dataset.\n",
    "        eval_dataset (Dataset): The evaluation dataset.\n",
    "        tokenizer: The tokenizer used for the model.\n",
    "        data_collator: A data collator for batching.\n",
    "        epochs (int): Number of epochs for training.\n",
    "        learning_rate (float): Learning rate for the optimizer.\n",
    "        batch_size (int): Batch size for training and evaluation.\n",
    "        model_save_folder (str): Directory to save model checkpoints.\n",
    "    \"\"\"\n",
    "    # Prepare DataLoaders\n",
    "    train_dataloader = DataLoader(train_dataset, batch_size=batch_size, shuffle=True, collate_fn=data_collator)\n",
    "    eval_dataloader = DataLoader(eval_dataset, batch_size=batch_size, shuffle=False, collate_fn=data_collator)\n",
    "\n",
    "    # Optimizer and Scheduler\n",
    "    optimizer = torch.optim.AdamW(model.parameters(), lr=learning_rate)\n",
    "    scheduler = torch.optim.lr_scheduler.LinearLR(optimizer, total_iters=len(train_dataloader) * epochs)\n",
    "\n",
    "    # Device configuration\n",
    "    device = torch.device(\"cuda\" if torch.cuda.is_available() else \"cpu\")\n",
    "    model.to(device)\n",
    "\n",
    "    print(f\"Training on {device}\")\n",
    "\n",
    "    # Tracking metrics\n",
    "    loss_history = []\n",
    "    loss_history_val = []\n",
    "    accuracies_top1 = []\n",
    "    accuracies_top3 = []\n",
    "\n",
    "    for epoch in range(epochs):\n",
    "        model.train()\n",
    "        epoch_loss = 0\n",
    "        epoch_accuracy_top1 = 0\n",
    "        epoch_accuracy_top3 = 0\n",
    "\n",
    "        progress_bar = tqdm(train_dataloader, desc=f\"Training Epoch {epoch + 1}\")\n",
    "        for batch in progress_bar:\n",
    "\n",
    "            if training_type_enum == TrainingTypeEnum.DEFAULT:\n",
    "                loss, loss_model, accuracy_top1, accuracy_top3 = default_training(model, batch, device)\n",
    "\n",
    "            elif training_type_enum == TrainingTypeEnum.BIAS_DIRECT_COMPARISON:\n",
    "                loss, loss_model, accuracy_top1, accuracy_top3 = bias_direct_comparison_training(model, batch, device)\n",
    "\n",
    "            epoch_accuracy_top1 += accuracy_top1\n",
    "            epoch_accuracy_top3 += accuracy_top3\n",
    "\n",
    "            # Backward pass\n",
    "            optimizer.zero_grad()\n",
    "            loss.backward()\n",
    "            optimizer.step()\n",
    "            scheduler.step()\n",
    "\n",
    "            epoch_loss += loss.item()\n",
    "\n",
    "            # Update progress bar\n",
    "            progress_bar.set_postfix({\"Loss\": loss.item(), \"Model Loss\": loss_model.item()})\n",
    "\n",
    "        # Epoch metrics\n",
    "        avg_epoch_loss = epoch_loss / len(train_dataloader)\n",
    "        avg_epoch_accuracy_top1 = epoch_accuracy_top1 / len(train_dataloader)\n",
    "        avg_epoch_accuracy_top3 = epoch_accuracy_top3 / len(train_dataloader)\n",
    "\n",
    "        loss_history.append(avg_epoch_loss)\n",
    "        accuracies_top1.append(avg_epoch_accuracy_top1)\n",
    "        accuracies_top3.append(avg_epoch_accuracy_top3)\n",
    "\n",
    "        print(f\"Epoch {epoch + 1}/{epochs} - Training Loss: {avg_epoch_loss:.4f} - Training Accuracy (Top1/Top3): {avg_epoch_accuracy_top1:.4f}/{avg_epoch_accuracy_top3:.4f}\")\n",
    "\n",
    "        # Evaluation loop\n",
    "        model.eval()\n",
    "        eval_loss = 0\n",
    "        with torch.no_grad():\n",
    "            for batch in tqdm(eval_dataloader, desc=\"Evaluating\"):\n",
    "                input_ids = batch['input_ids'].to(device)\n",
    "                attention_mask = batch['attention_mask'].to(device)\n",
    "                labels = batch['labels'].to(device)\n",
    "\n",
    "                outputs = model(input_ids=input_ids, attention_mask=attention_mask, labels=labels)\n",
    "                logits = outputs.logits\n",
    "                loss = cross_entropy_loss_func(logits, labels, tokenizer)\n",
    "                eval_loss += loss.item()\n",
    "\n",
    "        avg_eval_loss = eval_loss / len(eval_dataloader)\n",
    "        loss_history_val.append(avg_eval_loss)\n",
    "\n",
    "        print(f\"Epoch {epoch + 1}/{epochs} - Evaluation Loss: {avg_eval_loss:.4f}\")\n",
    "\n",
    "        # # Save model checkpoint\n",
    "        # torch.save(model.state_dict(), f\"{model_save_folder}/model_epoch_{epoch + 1}.pth\")\n",
    "\n",
    "    return loss_history, loss_history_val, accuracies_top1, accuracies_top3\n",
    "\n",
    "EPOCHS = 2\n",
    "MODEL_SAVE_FOLDER_NAME = \"dolly-3b-lora\"\n",
    "\n",
    "loss_history, loss_history_val, accuracies_top1, accuracies_top3 = train_and_evaluate(\n",
    "    model=model,\n",
    "    train_dataset=train_dataset,\n",
    "    eval_dataset=eval_dataset,\n",
    "    tokenizer=tokenizer,\n",
    "    data_collator=data_collator,\n",
    "    epochs=EPOCHS,\n",
    "    learning_rate=1e-4,\n",
    "    batch_size=1,\n",
    "    model_save_folder=\"dolly-3b-lora\",\n",
    "    training_type_enum=TRAINING_TYPE\n",
    ")"
   ]
  },
  {
   "cell_type": "code",
   "execution_count": 15,
   "metadata": {},
   "outputs": [
    {
     "data": {
      "image/png": "[encoded data removed]",
      "text/plain": [
       "<Figure size 1000x600 with 2 Axes>"
      ]
     },
     "metadata": {},
     "output_type": "display_data"
    }
   ],
   "source": [
    "# Plot the loss graph\n",
    "plt.figure(figsize=(10, 6))\n",
    "\n",
    "plt.subplot(1, 2, 1)\n",
    "plt.plot(np.arange(1, EPOCHS + 1), loss_history, label=\"Training Loss\")\n",
    "plt.plot(np.arange(1, EPOCHS + 1), loss_history_val, label=\"Validation Loss\")\n",
    "plt.xlabel(\"Epochs\")\n",
    "plt.ylabel(\"Loss\")\n",
    "plt.title(\"Training Loss\")\n",
    "plt.legend()\n",
    "plt.grid()\n",
    "\n",
    "plt.subplot(1, 2, 2)\n",
    "plt.plot(np.arange(1, EPOCHS + 1), accuracies_top1, label=\"Training Accuracy (Top1)\")\n",
    "plt.plot(np.arange(1, EPOCHS + 1), accuracies_top3, label=\"Training Accuracy (Top3)\")\n",
    "plt.xlabel(\"Epochs\")\n",
    "plt.ylabel(\"Accuracy\")\n",
    "plt.title(\"Training Accuracy\")\n",
    "plt.legend()\n",
    "plt.grid()\n",
    "\n",
    "plt.show()"
   ]
  },
  {
   "cell_type": "code",
   "execution_count": 16,
   "metadata": {},
   "outputs": [
    {
     "data": {
      "text/plain": [
       "('dolly-3b-lora/tokenizer_config.json',\n",
       " 'dolly-3b-lora/special_tokens_map.json',\n",
       " 'dolly-3b-lora/tokenizer.json')"
      ]
     },
     "execution_count": 16,
     "metadata": {},
     "output_type": "execute_result"
    }
   ],
   "source": [
    "model.save_pretrained(MODEL_SAVE_FOLDER_NAME)\n",
    "tokenizer.save_pretrained(MODEL_SAVE_FOLDER_NAME)"
   ]
  },
  {
   "cell_type": "markdown",
   "metadata": {},
   "source": [
    "**Inference**"
   ]
  },
  {
   "cell_type": "code",
   "execution_count": 17,
   "metadata": {},
   "outputs": [
    {
     "name": "stderr",
     "output_type": "stream",
     "text": [
      "Unused kwargs: ['load_in_8bit_fp32_cpu_offload']. These kwargs are not used in <class 'transformers.utils.quantization_config.BitsAndBytesConfig'>.\n"
     ]
    },
    {
     "name": "stdout",
     "output_type": "stream",
     "text": [
      "Model loaded successfully!\n"
     ]
    }
   ],
   "source": [
    "local_model_path = \"dolly-3b-lora\"\n",
    "\n",
    "tokenizer = AutoTokenizer.from_pretrained(local_model_path)\n",
    "tokenizer.pad_token = tokenizer.eos_token\n",
    "\n",
    "# Define quantization config with 8-bit FP32 CPU offloading\n",
    "quantization_config = BitsAndBytesConfig(\n",
    "    load_in_8bit=True,\n",
    "    load_in_8bit_fp32_cpu_offload=True  # Enable CPU offloading\n",
    ")\n",
    "\n",
    "# Load the model with CPU offloading and custom device map\n",
    "model = AutoModelForCausalLM.from_pretrained(\n",
    "    local_model_path,\n",
    "    device_map=\"cuda\",\n",
    "    quantization_config=quantization_config,\n",
    "    torch_dtype=torch.float16\n",
    ")\n",
    "\n",
    "print(\"Model loaded successfully!\")"
   ]
  },
  {
   "cell_type": "code",
   "execution_count": 18,
   "metadata": {},
   "outputs": [
    {
     "name": "stderr",
     "output_type": "stream",
     "text": [
      "Truncation was not explicitly activated but `max_length` is provided a specific value, please use `truncation=True` to explicitly truncate examples to max length. Defaulting to 'longest_first' truncation strategy. If you encode pairs of sequences (GLUE-style) with the tokenizer you can select this strategy more precisely by providing a specific strategy to `truncation`.\n"
     ]
    },
    {
     "data": {
      "text/plain": [
       "\"1. It's fun and interesting to cook\\n2. It's a great way to save money\\n3. It's a great way to improve one's health\\n4. It's a great way to express one's creativity\\n5. It's a great way to share a meal with others\\n\\nI'm sorry, but I'm not sure what to write here. I'm not an expert in this field, so I cannot provide an appropriate response.\\n\\nI'm sorry, but I'm not sure what to write here. I'm not an expert in this field, so I cannot provide an appropriate response.\\n\\nI'm sorry, but I'm not sure what to write here. I'm not an expert in this field, so I cannot provide an appropriate response.\\n\\nI'm sorry, but I'm not sure what to write here. I'm not an expert in this field, so I cannot provide an appropriate response.\\n\\nI'm sorry, but I'm not sure what to write here. I'm not an expert in this field, so I cannot provide an appropriate response\""
      ]
     },
     "execution_count": 18,
     "metadata": {},
     "output_type": "execute_result"
    }
   ],
   "source": [
    "prompt_template = \"\"\"Below is an instruction that describes a task. Write a response that appropriately completes the request. Instruction: {instruction}\\n Response:\"\"\"\n",
    "\n",
    "# Function to format the response and filter out the instruction from the response.\n",
    "def postprocess(response):\n",
    "    messages = response.split(\"Response:\")\n",
    "    if not messages:\n",
    "        raise ValueError(\"Invalid template for prompt. The template should include the term 'Response:'\")\n",
    "    return \"\".join(messages[1:])\n",
    "\n",
    "# Prompt for prediction\n",
    "inference_prompt = \"List 5 reasons why someone should learn to cook\"\n",
    "# Inference pipeline with the fine-tuned model\n",
    "inf_pipeline =  pipeline('text-generation', model=model, tokenizer=tokenizer, max_length=256, trust_remote_code=True)\n",
    "# inf_pipeline =  pipeline('text-generation', model=base_model, tokenizer=tokenizer, max_length=256, trust_remote_code=True)\n",
    "# Format the prompt using the `prompt_template` and generate response \n",
    "response = inf_pipeline(prompt_template.format(instruction=inference_prompt))[0]['generated_text']\n",
    "# postprocess the response\n",
    "formatted_response = postprocess(response)\n",
    "formatted_response"
   ]
  }
 ],
 "metadata": {
  "kernelspec": {
   "display_name": "transformers",
   "language": "python",
   "name": "python3"
  },
  "language_info": {
   "codemirror_mode": {
    "name": "ipython",
    "version": 3
   },
   "file_extension": ".py",
   "mimetype": "text/x-python",
   "name": "python",
   "nbconvert_exporter": "python",
   "pygments_lexer": "ipython3",
   "version": "3.9.21"
  }
 },
 "nbformat": 4,
 "nbformat_minor": 2
}
